{
 "cells": [
  {
   "cell_type": "markdown",
   "execution_count": null,
   "metadata": {
    "papermill": {
     "duration": 0.01312,
     "end_time": "2020-09-07T11:54:32.312603",
     "exception": false,
     "start_time": "2020-09-07T11:54:32.299483",
     "status": "completed"
    },
    "tags": []
   },
   "source": [
    "> “Visualization gives you answers to questions you didn’t know you had.” "
   ]
  },
  {
   "cell_type": "markdown",
   "execution_count": null,
   "metadata": {
    "papermill": {
     "duration": 0.011477,
     "end_time": "2020-09-07T11:54:32.336034",
     "exception": false,
     "start_time": "2020-09-07T11:54:32.324557",
     "status": "completed"
    },
    "tags": []
   },
   "source": [
    "# Data Visualization\n",
    "\n",
    "Data visualization is the discipline of trying to understand data by placing it in a visual context so that patterns, trends and correlations that might not otherwise be detected can be exposed.\n",
    "\n",
    "Python offers multiple great graphing libraries that come packed with lots of different features. No matter if you want to create interactive, live or highly customized plots python has an excellent library for you.\n",
    "\n",
    "**Matplotlib** from beginners in data science to experienced professionals building complex data visualizations, matplotlib is usually the default visualization Python library data scientists turn to.\n",
    "matplotlib is known for the high amount of flexibility it provides as a 2-D plotting library in Python.Matplotlib supports all the popular charts (lots, histograms, power spectra, bar charts, error charts, scatterplots, etc.) right out of the box. There are also extensions that you can use to create advanced visualizations like 3-Dimensional plots, etc.\n",
    "What I personally like about matplotlib is that because it’s so flexible, it lets the user control aspects of the visualization at the most granular level, from a single line or dot in the graph to the entire chart. This means you can customize it at the highest levels.\n",
    "\n",
    "**Seaborn** is built on top of matplotlib and provides a very simple yet intuitive interface for building visualizations. When using Seaborn, you will also notice that many of the default settings in the plots work quite well right out of the box.The first unique feature of Seaborn is that it is designed in such a way that you write way lesser code to achieve high-grade visualizations. Here is an example of this simplicity. Notice how we can create a complex visualization with just a single line of plotting code.The second useful feature of Seaborn is that it supports a plethora of advanced plots like categorical plotting (catplot), distribution plotting using kde (distplot), swarm plot, etc. right out of the box. Seaborn is built on top of matplotlib, it is highly compatible with it. So that means when building visualizations, you can start with advanced plots that seaborn already supports and then customize them as much as you want with the help of matplotlib.\n",
    "\n",
    "**Bokeh** is a library designed to generate visualizations that are friendly on the web interface and browsers. And that’s what this visualization library specifically targets.You will also notice that the visualizations generated from Bokeh are interactive in nature, which basically means you can convey information in a more intuitive way through your plots.Bokeh supports unique visualizations like Geospatial plots, Network graphs, etc. right out of the box. If you want to show these visualizations in a browser, there are options available to export them and you can also use it through JavaScript itself.\n",
    "\n",
    "**Altair** is a declarative library for data visualization. Its principle is that rather than focusing on the code part, one should focus on the visualization part and write as less code as possible and still be able to create beautiful and intuitive plots.Since Altair uses a declarative style to create plots, it becomes very easy and quick to iterate through visualizations and experiments at a rapid pace when using this library.\n",
    "\n",
    "**Plotly** this data visualization library is by far my go-to library whenever I want to create visualizations that need to be highly interactive for the user. Plotly is highly compatible with Jupyter Notebook and Web Browsers. This means whatever interactive plots you create can easily be shared in the same manner with your teammates or end-users.Plotly supports a gamut of plots right from basic chart types, Seaborn-like beautiful and advanced plots, 3-D plots, Map-based visualizations, scientific plots, etc.Plotly’s plots can also support animation capabilities as well.\n",
    "\n",
    "**ggplot** is the Python version of the famous ggplot2 of R and the Grammer of Graphics language.  ggplot is also a declarative style library like Bokeh but is also tightly coupled with Pandas. This means you can easily build visualizations using your Pandas dataframe itself."
   ]
  },
  {
   "cell_type": "markdown",
   "execution_count": null,
   "metadata": {
    "papermill": {
     "duration": 0.011545,
     "end_time": "2020-09-07T11:54:32.359366",
     "exception": false,
     "start_time": "2020-09-07T11:54:32.347821",
     "status": "completed"
    },
    "tags": []
   },
   "source": [
    "# Information about Dataset(Fatal Police Shootings in the US)\n",
    "\n",
    "# Fatal police shootings in the US since 2015 with additional US census data\n",
    "\n",
    "The 2014 killing of Michael Brown in Ferguson, Missouri, began the protest movement culminating in Black Lives Matter and an increased focus on police accountability nationwide.\n",
    "\n",
    "Since Jan. 1, 2015, The Washington Post has been compiling a database of every fatal shooting in the US by a police officer in the line of duty.\n",
    "It's difficult to find reliable data from before this period, as police killings haven't been comprehensively documented, and the statistics on police brutality are much less available. As a result, a vast number of cases go unreported.\n",
    "\n",
    "The Washington Post is tracking more than a dozen details about each killing - including the race, age and gender of the deceased, whether the person was armed, and whether the victim was experiencing a mental-health crisis. They have gathered this information from law enforcement websites, local new reports, social media, and by monitoring independent databases such as \"Killed by police\" and \"Fatal Encounters\". The Post has also conducted additional reporting in many cases.\n",
    "\n",
    "There are four additional datasets. These are US census data on poverty rate, high school graduation rate, median household income, and racial demographics.\n",
    "\n",
    "Source of census data:\n",
    "https://factfinder.census.gov/faces/nav/jsf/pages/community_facts.xhtml\n"
   ]
  },
  {
   "cell_type": "markdown",
   "execution_count": null,
   "metadata": {
    "papermill": {
     "duration": 0.011525,
     "end_time": "2020-09-07T11:54:32.382774",
     "exception": false,
     "start_time": "2020-09-07T11:54:32.371249",
     "status": "completed"
    },
    "tags": []
   },
   "source": [
    "<font color = \"blue\" >\n",
    "    Plot Contents:\n",
    "        \n",
    "   1. [Bar Plot](#1)\n",
    "   2. [Point Plot](#2)\n",
    "   3. [Joint Plot](#3)\n",
    "   4. [Pie Chart](#4)\n",
    "   5. [Lm Plot](#5)\n",
    "   6. [Kde Plot](#6)\n",
    "   7. [Violin Plot](#7)\n",
    "   8. [Heatmap](#8)\n",
    "   9. [Box Plot](#9)\n",
    "   10. [Swarm Plot](#10)\n",
    "   11. [Pair Plot](#11)\n",
    "   12. [Count Plot ](#12)  "
   ]
  },
  {
   "cell_type": "code",
   "execution_count": 1,
   "metadata": {
    "_cell_guid": "b1076dfc-b9ad-4769-8c92-a6c4dae69d19",
    "_uuid": "8f2839f25d086af736a60e9eeb907d3b93b6e0e5",
    "execution": {
     "iopub.execute_input": "2020-09-07T11:54:32.417985Z",
     "iopub.status.busy": "2020-09-07T11:54:32.417057Z",
     "iopub.status.idle": "2020-09-07T11:54:33.447086Z",
     "shell.execute_reply": "2020-09-07T11:54:33.446299Z"
    },
    "papermill": {
     "duration": 1.052495,
     "end_time": "2020-09-07T11:54:33.447297",
     "exception": false,
     "start_time": "2020-09-07T11:54:32.394802",
     "status": "completed"
    },
    "tags": []
   },
   "outputs": [
    {
     "name": "stdout",
     "output_type": "stream",
     "text": [
      "fatal-police-shootings-in-the-us\n",
      "\n",
      "/kaggle/input/fatal-police-shootings-in-the-us/ShareRaceByCity.csv\n",
      "/kaggle/input/fatal-police-shootings-in-the-us/PercentagePeopleBelowPovertyLevel.csv\n",
      "/kaggle/input/fatal-police-shootings-in-the-us/MedianHouseholdIncome2015.csv\n",
      "/kaggle/input/fatal-police-shootings-in-the-us/PoliceKillingsUS.csv\n",
      "/kaggle/input/fatal-police-shootings-in-the-us/PercentOver25CompletedHighSchool.csv\n"
     ]
    }
   ],
   "source": [
    "import numpy as np\n",
    "#NumPy is a python library used for working with arrays.\n",
    "#It also has functions for working in domain of linear algebra, fourier transform, and matrices.\n",
    "#We have lists that serve the purpose of arrays, but they are slow.NumPy aims to provide an array object that is up to 50x faster that traditional Python lists.\n",
    "\n",
    "import pandas as pd \n",
    "#Why pandas: you want to explore a dataset stored in a CSV on your computer. Pandas will extract the data from that CSV into a DataFrame — \n",
    "#a table, basically — then let you do things like:\n",
    "#Calculate statistics and answer questions about the data, like: What's the average, median, max, or min of each column?\n",
    "#Does column A correlate with column B?\n",
    "#What does the distribution of data in column C look like?\n",
    "#Clean the data by doing things like removing missing values and filtering rows or columns by some criteria\n",
    "#Visualize the data with help from Matplotlib. Plot bars, lines, histograms, bubbles, and more.\n",
    "#Store the cleaned, transformed data back into a CSV, other file or database\n",
    "\n",
    "import os\n",
    "#The OS module in python provides functions for interacting with the operating system.\n",
    "#This module provides a portable way of using operating system dependent functionality.\n",
    "#The *os* and *os.path* modules include many functions to interact with the file system.\n",
    "\n",
    "import matplotlib.pyplot as plt\n",
    "#Matplotlib is a comprehensive library for creating static, animated, and interactive visualizations in Python.\n",
    "plt.style.use(\"seaborn-whitegrid\")\n",
    "#plt.style.available : To see all the available style in matplotlib library\n",
    "\n",
    "import seaborn as sns\n",
    "\n",
    "from collections import Counter\n",
    "\n",
    "import warnings\n",
    "warnings.filterwarnings(\"ignore\")\n",
    "\n",
    "from subprocess import check_output\n",
    "print(check_output([\"ls\", \"../input\"]).decode(\"utf8\"))\n",
    "#UTF-8 is a variable-width character encoding standard \n",
    "#that uses between one and four eight-bit bytes to represent all valid Unicode code points.\n",
    "\n",
    "for dirname, _, filenames in os.walk('/kaggle/input'):\n",
    "    for filename in filenames:\n",
    "        print(os.path.join(dirname, filename))\n",
    "# Any results you write to the current directory are saved as output."
   ]
  },
  {
   "cell_type": "code",
   "execution_count": 2,
   "metadata": {
    "execution": {
     "iopub.execute_input": "2020-09-07T11:54:33.479592Z",
     "iopub.status.busy": "2020-09-07T11:54:33.478866Z",
     "iopub.status.idle": "2020-09-07T11:54:33.669665Z",
     "shell.execute_reply": "2020-09-07T11:54:33.668992Z"
    },
    "papermill": {
     "duration": 0.209335,
     "end_time": "2020-09-07T11:54:33.669795",
     "exception": false,
     "start_time": "2020-09-07T11:54:33.460460",
     "status": "completed"
    },
    "tags": []
   },
   "outputs": [],
   "source": [
    "# Read datas\n",
    "house_income = pd.read_csv('/kaggle/input/fatal-police-shootings-in-the-us/MedianHouseholdIncome2015.csv', encoding=\"windows-1252\")\n",
    "percentage_people_below_poverty= pd.read_csv('/kaggle/input/fatal-police-shootings-in-the-us/PercentagePeopleBelowPovertyLevel.csv', encoding=\"windows-1252\")\n",
    "percent_over_25= pd.read_csv('/kaggle/input/fatal-police-shootings-in-the-us/PercentOver25CompletedHighSchool.csv', encoding=\"windows-1252\")\n",
    "race = pd.read_csv('/kaggle/input/fatal-police-shootings-in-the-us/ShareRaceByCity.csv', encoding=\"windows-1252\")\n",
    "kill = pd.read_csv('/kaggle/input/fatal-police-shootings-in-the-us/PoliceKillingsUS.csv', encoding=\"windows-1252\")"
   ]
  },
  {
   "cell_type": "code",
   "execution_count": 3,
   "metadata": {
    "execution": {
     "iopub.execute_input": "2020-09-07T11:54:33.708778Z",
     "iopub.status.busy": "2020-09-07T11:54:33.708093Z",
     "iopub.status.idle": "2020-09-07T11:54:33.722909Z",
     "shell.execute_reply": "2020-09-07T11:54:33.722383Z"
    },
    "papermill": {
     "duration": 0.041284,
     "end_time": "2020-09-07T11:54:33.723030",
     "exception": false,
     "start_time": "2020-09-07T11:54:33.681746",
     "status": "completed"
    },
    "tags": []
   },
   "outputs": [
    {
     "data": {
      "text/html": [
       "<div>\n",
       "<style scoped>\n",
       "    .dataframe tbody tr th:only-of-type {\n",
       "        vertical-align: middle;\n",
       "    }\n",
       "\n",
       "    .dataframe tbody tr th {\n",
       "        vertical-align: top;\n",
       "    }\n",
       "\n",
       "    .dataframe thead th {\n",
       "        text-align: right;\n",
       "    }\n",
       "</style>\n",
       "<table border=\"1\" class=\"dataframe\">\n",
       "  <thead>\n",
       "    <tr style=\"text-align: right;\">\n",
       "      <th></th>\n",
       "      <th>Geographic area</th>\n",
       "      <th>City</th>\n",
       "      <th>share_white</th>\n",
       "      <th>share_black</th>\n",
       "      <th>share_native_american</th>\n",
       "      <th>share_asian</th>\n",
       "      <th>share_hispanic</th>\n",
       "    </tr>\n",
       "  </thead>\n",
       "  <tbody>\n",
       "    <tr>\n",
       "      <th>0</th>\n",
       "      <td>AL</td>\n",
       "      <td>Abanda CDP</td>\n",
       "      <td>67.2</td>\n",
       "      <td>30.2</td>\n",
       "      <td>0</td>\n",
       "      <td>0</td>\n",
       "      <td>1.6</td>\n",
       "    </tr>\n",
       "    <tr>\n",
       "      <th>1</th>\n",
       "      <td>AL</td>\n",
       "      <td>Abbeville city</td>\n",
       "      <td>54.4</td>\n",
       "      <td>41.4</td>\n",
       "      <td>0.1</td>\n",
       "      <td>1</td>\n",
       "      <td>3.1</td>\n",
       "    </tr>\n",
       "    <tr>\n",
       "      <th>2</th>\n",
       "      <td>AL</td>\n",
       "      <td>Adamsville city</td>\n",
       "      <td>52.3</td>\n",
       "      <td>44.9</td>\n",
       "      <td>0.5</td>\n",
       "      <td>0.3</td>\n",
       "      <td>2.3</td>\n",
       "    </tr>\n",
       "    <tr>\n",
       "      <th>3</th>\n",
       "      <td>AL</td>\n",
       "      <td>Addison town</td>\n",
       "      <td>99.1</td>\n",
       "      <td>0.1</td>\n",
       "      <td>0</td>\n",
       "      <td>0.1</td>\n",
       "      <td>0.4</td>\n",
       "    </tr>\n",
       "    <tr>\n",
       "      <th>4</th>\n",
       "      <td>AL</td>\n",
       "      <td>Akron town</td>\n",
       "      <td>13.2</td>\n",
       "      <td>86.5</td>\n",
       "      <td>0</td>\n",
       "      <td>0</td>\n",
       "      <td>0.3</td>\n",
       "    </tr>\n",
       "  </tbody>\n",
       "</table>\n",
       "</div>"
      ],
      "text/plain": [
       "  Geographic area             City share_white share_black  \\\n",
       "0              AL       Abanda CDP        67.2        30.2   \n",
       "1              AL   Abbeville city        54.4        41.4   \n",
       "2              AL  Adamsville city        52.3        44.9   \n",
       "3              AL     Addison town        99.1         0.1   \n",
       "4              AL       Akron town        13.2        86.5   \n",
       "\n",
       "  share_native_american share_asian share_hispanic  \n",
       "0                     0           0            1.6  \n",
       "1                   0.1           1            3.1  \n",
       "2                   0.5         0.3            2.3  \n",
       "3                     0         0.1            0.4  \n",
       "4                     0           0            0.3  "
      ]
     },
     "execution_count": 3,
     "metadata": {},
     "output_type": "execute_result"
    }
   ],
   "source": [
    "race.head()"
   ]
  },
  {
   "cell_type": "code",
   "execution_count": 4,
   "metadata": {
    "execution": {
     "iopub.execute_input": "2020-09-07T11:54:33.757557Z",
     "iopub.status.busy": "2020-09-07T11:54:33.756548Z",
     "iopub.status.idle": "2020-09-07T11:54:33.760602Z",
     "shell.execute_reply": "2020-09-07T11:54:33.761038Z"
    },
    "papermill": {
     "duration": 0.026168,
     "end_time": "2020-09-07T11:54:33.761184",
     "exception": false,
     "start_time": "2020-09-07T11:54:33.735016",
     "status": "completed"
    },
    "tags": []
   },
   "outputs": [
    {
     "data": {
      "text/html": [
       "<div>\n",
       "<style scoped>\n",
       "    .dataframe tbody tr th:only-of-type {\n",
       "        vertical-align: middle;\n",
       "    }\n",
       "\n",
       "    .dataframe tbody tr th {\n",
       "        vertical-align: top;\n",
       "    }\n",
       "\n",
       "    .dataframe thead th {\n",
       "        text-align: right;\n",
       "    }\n",
       "</style>\n",
       "<table border=\"1\" class=\"dataframe\">\n",
       "  <thead>\n",
       "    <tr style=\"text-align: right;\">\n",
       "      <th></th>\n",
       "      <th>Geographic Area</th>\n",
       "      <th>City</th>\n",
       "      <th>poverty_rate</th>\n",
       "    </tr>\n",
       "  </thead>\n",
       "  <tbody>\n",
       "    <tr>\n",
       "      <th>0</th>\n",
       "      <td>AL</td>\n",
       "      <td>Abanda CDP</td>\n",
       "      <td>78.8</td>\n",
       "    </tr>\n",
       "    <tr>\n",
       "      <th>1</th>\n",
       "      <td>AL</td>\n",
       "      <td>Abbeville city</td>\n",
       "      <td>29.1</td>\n",
       "    </tr>\n",
       "    <tr>\n",
       "      <th>2</th>\n",
       "      <td>AL</td>\n",
       "      <td>Adamsville city</td>\n",
       "      <td>25.5</td>\n",
       "    </tr>\n",
       "    <tr>\n",
       "      <th>3</th>\n",
       "      <td>AL</td>\n",
       "      <td>Addison town</td>\n",
       "      <td>30.7</td>\n",
       "    </tr>\n",
       "    <tr>\n",
       "      <th>4</th>\n",
       "      <td>AL</td>\n",
       "      <td>Akron town</td>\n",
       "      <td>42</td>\n",
       "    </tr>\n",
       "  </tbody>\n",
       "</table>\n",
       "</div>"
      ],
      "text/plain": [
       "  Geographic Area             City poverty_rate\n",
       "0              AL       Abanda CDP         78.8\n",
       "1              AL   Abbeville city         29.1\n",
       "2              AL  Adamsville city         25.5\n",
       "3              AL     Addison town         30.7\n",
       "4              AL       Akron town           42"
      ]
     },
     "execution_count": 4,
     "metadata": {},
     "output_type": "execute_result"
    }
   ],
   "source": [
    "percentage_people_below_poverty.head()"
   ]
  },
  {
   "cell_type": "code",
   "execution_count": 5,
   "metadata": {
    "execution": {
     "iopub.execute_input": "2020-09-07T11:54:33.808574Z",
     "iopub.status.busy": "2020-09-07T11:54:33.796781Z",
     "iopub.status.idle": "2020-09-07T11:54:33.812614Z",
     "shell.execute_reply": "2020-09-07T11:54:33.811962Z"
    },
    "papermill": {
     "duration": 0.039342,
     "end_time": "2020-09-07T11:54:33.812739",
     "exception": false,
     "start_time": "2020-09-07T11:54:33.773397",
     "status": "completed"
    },
    "tags": []
   },
   "outputs": [
    {
     "name": "stdout",
     "output_type": "stream",
     "text": [
      "<class 'pandas.core.frame.DataFrame'>\n",
      "RangeIndex: 29329 entries, 0 to 29328\n",
      "Data columns (total 3 columns):\n",
      " #   Column           Non-Null Count  Dtype \n",
      "---  ------           --------------  ----- \n",
      " 0   Geographic Area  29329 non-null  object\n",
      " 1   City             29329 non-null  object\n",
      " 2   poverty_rate     29329 non-null  object\n",
      "dtypes: object(3)\n",
      "memory usage: 687.5+ KB\n"
     ]
    }
   ],
   "source": [
    "percentage_people_below_poverty.info()"
   ]
  },
  {
   "cell_type": "code",
   "execution_count": 6,
   "metadata": {
    "execution": {
     "iopub.execute_input": "2020-09-07T11:54:33.843919Z",
     "iopub.status.busy": "2020-09-07T11:54:33.843230Z",
     "iopub.status.idle": "2020-09-07T11:54:33.848197Z",
     "shell.execute_reply": "2020-09-07T11:54:33.848655Z"
    },
    "papermill": {
     "duration": 0.02367,
     "end_time": "2020-09-07T11:54:33.848799",
     "exception": false,
     "start_time": "2020-09-07T11:54:33.825129",
     "status": "completed"
    },
    "tags": []
   },
   "outputs": [
    {
     "data": {
      "text/plain": [
       "array(['AL', 'AK', 'AZ', 'AR', 'CA', 'CO', 'CT', 'DE', 'DC', 'FL', 'GA',\n",
       "       'HI', 'ID', 'IL', 'IN', 'IA', 'KS', 'KY', 'LA', 'ME', 'MD', 'MA',\n",
       "       'MI', 'MN', 'MS', 'MO', 'MT', 'NE', 'NV', 'NH', 'NJ', 'NM', 'NY',\n",
       "       'NC', 'ND', 'OH', 'OK', 'OR', 'PA', 'RI', 'SC', 'SD', 'TN', 'TX',\n",
       "       'UT', 'VT', 'VA', 'WA', 'WV', 'WI', 'WY'], dtype=object)"
      ]
     },
     "execution_count": 6,
     "metadata": {},
     "output_type": "execute_result"
    }
   ],
   "source": [
    "percentage_people_below_poverty['Geographic Area'].unique()"
   ]
  },
  {
   "cell_type": "code",
   "execution_count": 7,
   "metadata": {
    "execution": {
     "iopub.execute_input": "2020-09-07T11:54:33.886571Z",
     "iopub.status.busy": "2020-09-07T11:54:33.883928Z",
     "iopub.status.idle": "2020-09-07T11:54:33.891347Z",
     "shell.execute_reply": "2020-09-07T11:54:33.890663Z"
    },
    "papermill": {
     "duration": 0.029913,
     "end_time": "2020-09-07T11:54:33.891474",
     "exception": false,
     "start_time": "2020-09-07T11:54:33.861561",
     "status": "completed"
    },
    "tags": []
   },
   "outputs": [
    {
     "data": {
      "text/plain": [
       "0       1464\n",
       "0.0      201\n",
       "6.7      129\n",
       "7.4      129\n",
       "10.9     128\n",
       "        ... \n",
       "65.1       1\n",
       "65.5       1\n",
       "74.8       1\n",
       "80.7       1\n",
       "65.9       1\n",
       "Name: poverty_rate, Length: 771, dtype: int64"
      ]
     },
     "execution_count": 7,
     "metadata": {},
     "output_type": "execute_result"
    }
   ],
   "source": [
    "percentage_people_below_poverty.poverty_rate.replace(['-'],0.0,inplace = True)\n",
    "percentage_people_below_poverty.poverty_rate.value_counts()"
   ]
  },
  {
   "cell_type": "code",
   "execution_count": 8,
   "metadata": {
    "execution": {
     "iopub.execute_input": "2020-09-07T11:54:33.925401Z",
     "iopub.status.busy": "2020-09-07T11:54:33.924125Z",
     "iopub.status.idle": "2020-09-07T11:54:33.928694Z",
     "shell.execute_reply": "2020-09-07T11:54:33.927999Z"
    },
    "papermill": {
     "duration": 0.024634,
     "end_time": "2020-09-07T11:54:33.928812",
     "exception": false,
     "start_time": "2020-09-07T11:54:33.904178",
     "status": "completed"
    },
    "tags": []
   },
   "outputs": [],
   "source": [
    "percentage_people_below_poverty.poverty_rate = percentage_people_below_poverty.poverty_rate.astype(float)\n",
    "#race - kill - percent_over_25 - percentage_people_below_poverty - house_income"
   ]
  },
  {
   "cell_type": "markdown",
   "execution_count": null,
   "metadata": {
    "papermill": {
     "duration": 0.012424,
     "end_time": "2020-09-07T11:54:33.953969",
     "exception": false,
     "start_time": "2020-09-07T11:54:33.941545",
     "status": "completed"
    },
    "tags": []
   },
   "source": [
    "<a id = \"1\" ></a>\n",
    "# 1. Bar Plot"
   ]
  },
  {
   "cell_type": "markdown",
   "execution_count": null,
   "metadata": {
    "papermill": {
     "duration": 0.012695,
     "end_time": "2020-09-07T11:54:33.979418",
     "exception": false,
     "start_time": "2020-09-07T11:54:33.966723",
     "status": "completed"
    },
    "tags": []
   },
   "source": [
    "Show point estimates and confidence intervals as rectangular bars.\n",
    "\n",
    "A bar plot represents an estimate of central tendency for a numeric variable with the height of each rectangle and provides some indication of the uncertainty around that estimate using error bars. Bar plots include 0 in the quantitative axis range, and they are a good choice when 0 is a meaningful value for the quantitative variable, and you want to make comparisons against it."
   ]
  },
  {
   "cell_type": "code",
   "execution_count": 9,
   "metadata": {
    "execution": {
     "iopub.execute_input": "2020-09-07T11:54:34.016450Z",
     "iopub.status.busy": "2020-09-07T11:54:34.015741Z",
     "iopub.status.idle": "2020-09-07T11:54:34.809446Z",
     "shell.execute_reply": "2020-09-07T11:54:34.809991Z"
    },
    "papermill": {
     "duration": 0.81777,
     "end_time": "2020-09-07T11:54:34.810179",
     "exception": false,
     "start_time": "2020-09-07T11:54:33.992409",
     "status": "completed"
    },
    "tags": []
   },
   "outputs": [
    {
     "data": {
      "text/plain": [
       "Text(0.5, 1.0, 'Poverty Rate Given States')"
      ]
     },
     "execution_count": 9,
     "metadata": {},
     "output_type": "execute_result"
    },
    {
     "data": {
      "image/png": "[encoded data removed]",
      "text/plain": [
       "<Figure size 1080x720 with 1 Axes>"
      ]
     },
     "metadata": {},
     "output_type": "display_data"
    }
   ],
   "source": [
    "area_list = list(percentage_people_below_poverty['Geographic Area'].unique())\n",
    "area_poverty_ratio = []\n",
    "for i in area_list:\n",
    "    x = percentage_people_below_poverty[percentage_people_below_poverty['Geographic Area']==i]\n",
    "    area_poverty_rate = sum(x.poverty_rate)/len(x)\n",
    "    area_poverty_ratio.append(area_poverty_rate)\n",
    "data = pd.DataFrame({'area_list': area_list,'area_poverty_ratio':area_poverty_ratio})\n",
    "new_index = (data['area_poverty_ratio'].sort_values(ascending=False)).index.values\n",
    "sorted_data = data.reindex(new_index)\n",
    "\n",
    "# visualization\n",
    "plt.figure(figsize=(15,10))\n",
    "sns.barplot(x=sorted_data['area_list'], y=sorted_data['area_poverty_ratio'])\n",
    "plt.xticks(rotation= 0)\n",
    "plt.xlabel('Geographic Area')\n",
    "plt.ylabel('Poverty Rate')\n",
    "plt.title('Poverty Rate Given States')"
   ]
  },
  {
   "cell_type": "code",
   "execution_count": 10,
   "metadata": {
    "execution": {
     "iopub.execute_input": "2020-09-07T11:54:34.858009Z",
     "iopub.status.busy": "2020-09-07T11:54:34.857172Z",
     "iopub.status.idle": "2020-09-07T11:54:34.861595Z",
     "shell.execute_reply": "2020-09-07T11:54:34.861050Z"
    },
    "papermill": {
     "duration": 0.037546,
     "end_time": "2020-09-07T11:54:34.861722",
     "exception": false,
     "start_time": "2020-09-07T11:54:34.824176",
     "status": "completed"
    },
    "tags": []
   },
   "outputs": [
    {
     "data": {
      "text/html": [
       "<div>\n",
       "<style scoped>\n",
       "    .dataframe tbody tr th:only-of-type {\n",
       "        vertical-align: middle;\n",
       "    }\n",
       "\n",
       "    .dataframe tbody tr th {\n",
       "        vertical-align: top;\n",
       "    }\n",
       "\n",
       "    .dataframe thead th {\n",
       "        text-align: right;\n",
       "    }\n",
       "</style>\n",
       "<table border=\"1\" class=\"dataframe\">\n",
       "  <thead>\n",
       "    <tr style=\"text-align: right;\">\n",
       "      <th></th>\n",
       "      <th>id</th>\n",
       "      <th>name</th>\n",
       "      <th>date</th>\n",
       "      <th>manner_of_death</th>\n",
       "      <th>armed</th>\n",
       "      <th>age</th>\n",
       "      <th>gender</th>\n",
       "      <th>race</th>\n",
       "      <th>city</th>\n",
       "      <th>state</th>\n",
       "      <th>signs_of_mental_illness</th>\n",
       "      <th>threat_level</th>\n",
       "      <th>flee</th>\n",
       "      <th>body_camera</th>\n",
       "    </tr>\n",
       "  </thead>\n",
       "  <tbody>\n",
       "    <tr>\n",
       "      <th>0</th>\n",
       "      <td>3</td>\n",
       "      <td>Tim Elliot</td>\n",
       "      <td>02/01/15</td>\n",
       "      <td>shot</td>\n",
       "      <td>gun</td>\n",
       "      <td>53.0</td>\n",
       "      <td>M</td>\n",
       "      <td>A</td>\n",
       "      <td>Shelton</td>\n",
       "      <td>WA</td>\n",
       "      <td>True</td>\n",
       "      <td>attack</td>\n",
       "      <td>Not fleeing</td>\n",
       "      <td>False</td>\n",
       "    </tr>\n",
       "    <tr>\n",
       "      <th>1</th>\n",
       "      <td>4</td>\n",
       "      <td>Lewis Lee Lembke</td>\n",
       "      <td>02/01/15</td>\n",
       "      <td>shot</td>\n",
       "      <td>gun</td>\n",
       "      <td>47.0</td>\n",
       "      <td>M</td>\n",
       "      <td>W</td>\n",
       "      <td>Aloha</td>\n",
       "      <td>OR</td>\n",
       "      <td>False</td>\n",
       "      <td>attack</td>\n",
       "      <td>Not fleeing</td>\n",
       "      <td>False</td>\n",
       "    </tr>\n",
       "    <tr>\n",
       "      <th>2</th>\n",
       "      <td>5</td>\n",
       "      <td>John Paul Quintero</td>\n",
       "      <td>03/01/15</td>\n",
       "      <td>shot and Tasered</td>\n",
       "      <td>unarmed</td>\n",
       "      <td>23.0</td>\n",
       "      <td>M</td>\n",
       "      <td>H</td>\n",
       "      <td>Wichita</td>\n",
       "      <td>KS</td>\n",
       "      <td>False</td>\n",
       "      <td>other</td>\n",
       "      <td>Not fleeing</td>\n",
       "      <td>False</td>\n",
       "    </tr>\n",
       "    <tr>\n",
       "      <th>3</th>\n",
       "      <td>8</td>\n",
       "      <td>Matthew Hoffman</td>\n",
       "      <td>04/01/15</td>\n",
       "      <td>shot</td>\n",
       "      <td>toy weapon</td>\n",
       "      <td>32.0</td>\n",
       "      <td>M</td>\n",
       "      <td>W</td>\n",
       "      <td>San Francisco</td>\n",
       "      <td>CA</td>\n",
       "      <td>True</td>\n",
       "      <td>attack</td>\n",
       "      <td>Not fleeing</td>\n",
       "      <td>False</td>\n",
       "    </tr>\n",
       "    <tr>\n",
       "      <th>4</th>\n",
       "      <td>9</td>\n",
       "      <td>Michael Rodriguez</td>\n",
       "      <td>04/01/15</td>\n",
       "      <td>shot</td>\n",
       "      <td>nail gun</td>\n",
       "      <td>39.0</td>\n",
       "      <td>M</td>\n",
       "      <td>H</td>\n",
       "      <td>Evans</td>\n",
       "      <td>CO</td>\n",
       "      <td>False</td>\n",
       "      <td>attack</td>\n",
       "      <td>Not fleeing</td>\n",
       "      <td>False</td>\n",
       "    </tr>\n",
       "  </tbody>\n",
       "</table>\n",
       "</div>"
      ],
      "text/plain": [
       "   id                name      date   manner_of_death       armed   age  \\\n",
       "0   3          Tim Elliot  02/01/15              shot         gun  53.0   \n",
       "1   4    Lewis Lee Lembke  02/01/15              shot         gun  47.0   \n",
       "2   5  John Paul Quintero  03/01/15  shot and Tasered     unarmed  23.0   \n",
       "3   8     Matthew Hoffman  04/01/15              shot  toy weapon  32.0   \n",
       "4   9   Michael Rodriguez  04/01/15              shot    nail gun  39.0   \n",
       "\n",
       "  gender race           city state  signs_of_mental_illness threat_level  \\\n",
       "0      M    A        Shelton    WA                     True       attack   \n",
       "1      M    W          Aloha    OR                    False       attack   \n",
       "2      M    H        Wichita    KS                    False        other   \n",
       "3      M    W  San Francisco    CA                     True       attack   \n",
       "4      M    H          Evans    CO                    False       attack   \n",
       "\n",
       "          flee  body_camera  \n",
       "0  Not fleeing        False  \n",
       "1  Not fleeing        False  \n",
       "2  Not fleeing        False  \n",
       "3  Not fleeing        False  \n",
       "4  Not fleeing        False  "
      ]
     },
     "execution_count": 10,
     "metadata": {},
     "output_type": "execute_result"
    }
   ],
   "source": [
    "kill.head()"
   ]
  },
  {
   "cell_type": "code",
   "execution_count": 11,
   "metadata": {
    "execution": {
     "iopub.execute_input": "2020-09-07T11:54:34.894687Z",
     "iopub.status.busy": "2020-09-07T11:54:34.893582Z",
     "iopub.status.idle": "2020-09-07T11:54:34.901637Z",
     "shell.execute_reply": "2020-09-07T11:54:34.902089Z"
    },
    "papermill": {
     "duration": 0.026871,
     "end_time": "2020-09-07T11:54:34.902241",
     "exception": false,
     "start_time": "2020-09-07T11:54:34.875370",
     "status": "completed"
    },
    "tags": []
   },
   "outputs": [
    {
     "data": {
      "text/plain": [
       "TK TK                       49\n",
       "Eric Harris                  2\n",
       "Michael Johnson              2\n",
       "Daquan Antonio Westbrook     2\n",
       "Brandon Jones                2\n",
       "                            ..\n",
       "Baltazar Ramos               1\n",
       "Richard Reed                 1\n",
       "Robert Young                 1\n",
       "John  Sawyer                 1\n",
       "Scott Dunham                 1\n",
       "Name: name, Length: 2481, dtype: int64"
      ]
     },
     "execution_count": 11,
     "metadata": {},
     "output_type": "execute_result"
    }
   ],
   "source": [
    "kill.name.value_counts()"
   ]
  },
  {
   "cell_type": "code",
   "execution_count": 12,
   "metadata": {
    "execution": {
     "iopub.execute_input": "2020-09-07T11:54:34.938815Z",
     "iopub.status.busy": "2020-09-07T11:54:34.938117Z",
     "iopub.status.idle": "2020-09-07T11:54:34.943336Z",
     "shell.execute_reply": "2020-09-07T11:54:34.942568Z"
    },
    "papermill": {
     "duration": 0.027063,
     "end_time": "2020-09-07T11:54:34.943490",
     "exception": false,
     "start_time": "2020-09-07T11:54:34.916427",
     "status": "completed"
    },
    "tags": []
   },
   "outputs": [
    {
     "name": "stdout",
     "output_type": "stream",
     "text": [
      "The zipped result is : [('Manjeet', 4, 40), ('Nikhil', 1, 50), ('Shambhavi', 3, 60), ('Astha', 2, 70)]\n",
      "\n",
      "\n",
      "The unzipped results: \n",
      "\n",
      "The name list is : ('Manjeet', 'Nikhil', 'Shambhavi', 'Astha')\n",
      "The roll_no list is : (4, 1, 3, 2)\n",
      "The marks list is : (40, 50, 60, 70)\n"
     ]
    }
   ],
   "source": [
    "# The zip() function returns a zip object, which is an iterator of tuples where the first \n",
    "# item in each passed iterator is paired together, and then the second item in each passed iterator are paired together etc.\n",
    "# If the passed iterators have different lengths, the iterator with the least items decides the length of the new iterator.\n",
    "# If a single iterable is passed, zip() returns an iterator of tuples with each tuple having only one element.\n",
    "# If multiple iterables are passed, zip() returns an iterator of tuples with each tuple having elements from all the iterables.\n",
    "name = [ \"Manjeet\", \"Nikhil\", \"Shambhavi\", \"Astha\" ] \n",
    "roll_no = [ 4, 1, 3, 2 ] \n",
    "marks = [ 40, 50, 60, 70 ] \n",
    "  \n",
    "# using zip() to map values \n",
    "mapped = zip(name, roll_no, marks) \n",
    "mapped = list(mapped) \n",
    "print (\"The zipped result is : \",end=\"\") \n",
    "print (mapped) \n",
    "print(\"\\n\") \n",
    "  \n",
    "# unzipping values \n",
    "namz, roll_noz, marksz = zip(*mapped) \n",
    "\n",
    "print (\"The unzipped results: \\n\") \n",
    "  \n",
    "print (\"The name list is : \",end=\"\") \n",
    "print (namz) \n",
    "print (\"The roll_no list is : \",end=\"\") \n",
    "print (roll_noz) \n",
    "print (\"The marks list is : \",end=\"\") \n",
    "print (marksz) "
   ]
  },
  {
   "cell_type": "code",
   "execution_count": 13,
   "metadata": {
    "execution": {
     "iopub.execute_input": "2020-09-07T11:54:34.978130Z",
     "iopub.status.busy": "2020-09-07T11:54:34.977263Z",
     "iopub.status.idle": "2020-09-07T11:54:34.980328Z",
     "shell.execute_reply": "2020-09-07T11:54:34.980833Z"
    },
    "papermill": {
     "duration": 0.023105,
     "end_time": "2020-09-07T11:54:34.980973",
     "exception": false,
     "start_time": "2020-09-07T11:54:34.957868",
     "status": "completed"
    },
    "tags": []
   },
   "outputs": [
    {
     "name": "stdout",
     "output_type": "stream",
     "text": [
      "Counter({'x': 4, 'y': 2, 'z': 2})\n",
      "*****\n",
      "Counter({'o': 3, ' ': 3, 'u': 3, 'e': 2, 'l': 2, 't': 2, 'r': 2, '9': 2, 'W': 1, 'c': 1, 'm': 1, 'G': 1, 'T': 1, 'i': 1, 'a': 1, 's': 1, '!': 1})\n"
     ]
    }
   ],
   "source": [
    "# Python Counter is a container that will hold the count of each of the elements present in the container. \n",
    "# The counter is a sub-class available inside the dictionary class.\n",
    "# The Counter holds the data in an unordered collection, just like hashtable objects.\n",
    "# Arithmetic operations like addition, subtraction, intersection, and union can be easily performed on a Counter.\n",
    "\n",
    "list1 = ['x','y','z','x','x','x','y', 'z']\n",
    "print(Counter(list1))\n",
    "print(\"*****\")\n",
    "my_str = \"Welcome to Guru99 Tutorials!\"\n",
    "print(Counter(my_str))"
   ]
  },
  {
   "cell_type": "code",
   "execution_count": 14,
   "metadata": {
    "execution": {
     "iopub.execute_input": "2020-09-07T11:54:35.025286Z",
     "iopub.status.busy": "2020-09-07T11:54:35.022289Z",
     "iopub.status.idle": "2020-09-07T11:54:35.249631Z",
     "shell.execute_reply": "2020-09-07T11:54:35.248990Z"
    },
    "papermill": {
     "duration": 0.25467,
     "end_time": "2020-09-07T11:54:35.249750",
     "exception": false,
     "start_time": "2020-09-07T11:54:34.995080",
     "status": "completed"
    },
    "tags": []
   },
   "outputs": [
    {
     "data": {
      "text/plain": [
       "Text(0.5, 1.0, 'Most common 15 Name or Surname of killed people')"
      ]
     },
     "execution_count": 14,
     "metadata": {},
     "output_type": "execute_result"
    },
    {
     "data": {
      "image/png": "[encoded data removed]",
      "text/plain": [
       "<Figure size 1080x720 with 1 Axes>"
      ]
     },
     "metadata": {},
     "output_type": "display_data"
    }
   ],
   "source": [
    "# Most common 15 Name or Surname of killed people\n",
    "separate = kill.name[kill.name != 'TK TK'].str.split()  # I don't want to show TK TK. #Convert to string and split the names.\n",
    "a,b = zip(*separate)                     \n",
    "name_list = a+b                      \n",
    "name_count = Counter(name_list)          \n",
    "most_common_names = name_count.most_common(15)  \n",
    "x,y = zip(*most_common_names)\n",
    "x,y = list(x),list(y)\n",
    "\n",
    "\n",
    "plt.figure(figsize=(15,10))\n",
    "ax= sns.barplot(x=x, y=y,palette = sns.cubehelix_palette(len(x)))\n",
    "plt.xlabel('Name or Surname of killed people')\n",
    "plt.ylabel('Frequency')\n",
    "plt.title('Most common 15 Name or Surname of killed people')"
   ]
  },
  {
   "cell_type": "code",
   "execution_count": 15,
   "metadata": {
    "execution": {
     "iopub.execute_input": "2020-09-07T11:54:35.283181Z",
     "iopub.status.busy": "2020-09-07T11:54:35.282565Z",
     "iopub.status.idle": "2020-09-07T11:54:35.285873Z",
     "shell.execute_reply": "2020-09-07T11:54:35.285228Z"
    },
    "papermill": {
     "duration": 0.021453,
     "end_time": "2020-09-07T11:54:35.285987",
     "exception": false,
     "start_time": "2020-09-07T11:54:35.264534",
     "status": "completed"
    },
    "tags": []
   },
   "outputs": [],
   "source": [
    "#race - kill - percent_over_25 - percentage_people_below_poverty - house_income   - DATA"
   ]
  },
  {
   "cell_type": "code",
   "execution_count": 16,
   "metadata": {
    "execution": {
     "iopub.execute_input": "2020-09-07T11:54:35.326009Z",
     "iopub.status.busy": "2020-09-07T11:54:35.325190Z",
     "iopub.status.idle": "2020-09-07T11:54:35.328991Z",
     "shell.execute_reply": "2020-09-07T11:54:35.329457Z"
    },
    "papermill": {
     "duration": 0.028531,
     "end_time": "2020-09-07T11:54:35.329618",
     "exception": false,
     "start_time": "2020-09-07T11:54:35.301087",
     "status": "completed"
    },
    "tags": []
   },
   "outputs": [
    {
     "data": {
      "text/html": [
       "<div>\n",
       "<style scoped>\n",
       "    .dataframe tbody tr th:only-of-type {\n",
       "        vertical-align: middle;\n",
       "    }\n",
       "\n",
       "    .dataframe tbody tr th {\n",
       "        vertical-align: top;\n",
       "    }\n",
       "\n",
       "    .dataframe thead th {\n",
       "        text-align: right;\n",
       "    }\n",
       "</style>\n",
       "<table border=\"1\" class=\"dataframe\">\n",
       "  <thead>\n",
       "    <tr style=\"text-align: right;\">\n",
       "      <th></th>\n",
       "      <th>Geographic Area</th>\n",
       "      <th>City</th>\n",
       "      <th>percent_completed_hs</th>\n",
       "    </tr>\n",
       "  </thead>\n",
       "  <tbody>\n",
       "    <tr>\n",
       "      <th>0</th>\n",
       "      <td>AL</td>\n",
       "      <td>Abanda CDP</td>\n",
       "      <td>21.2</td>\n",
       "    </tr>\n",
       "    <tr>\n",
       "      <th>1</th>\n",
       "      <td>AL</td>\n",
       "      <td>Abbeville city</td>\n",
       "      <td>69.1</td>\n",
       "    </tr>\n",
       "    <tr>\n",
       "      <th>2</th>\n",
       "      <td>AL</td>\n",
       "      <td>Adamsville city</td>\n",
       "      <td>78.9</td>\n",
       "    </tr>\n",
       "    <tr>\n",
       "      <th>3</th>\n",
       "      <td>AL</td>\n",
       "      <td>Addison town</td>\n",
       "      <td>81.4</td>\n",
       "    </tr>\n",
       "    <tr>\n",
       "      <th>4</th>\n",
       "      <td>AL</td>\n",
       "      <td>Akron town</td>\n",
       "      <td>68.6</td>\n",
       "    </tr>\n",
       "  </tbody>\n",
       "</table>\n",
       "</div>"
      ],
      "text/plain": [
       "  Geographic Area             City percent_completed_hs\n",
       "0              AL       Abanda CDP                 21.2\n",
       "1              AL   Abbeville city                 69.1\n",
       "2              AL  Adamsville city                 78.9\n",
       "3              AL     Addison town                 81.4\n",
       "4              AL       Akron town                 68.6"
      ]
     },
     "execution_count": 16,
     "metadata": {},
     "output_type": "execute_result"
    }
   ],
   "source": [
    "percent_over_25.head()"
   ]
  },
  {
   "cell_type": "code",
   "execution_count": 17,
   "metadata": {
    "execution": {
     "iopub.execute_input": "2020-09-07T11:54:35.377773Z",
     "iopub.status.busy": "2020-09-07T11:54:35.377049Z",
     "iopub.status.idle": "2020-09-07T11:54:35.381409Z",
     "shell.execute_reply": "2020-09-07T11:54:35.380535Z"
    },
    "papermill": {
     "duration": 0.037379,
     "end_time": "2020-09-07T11:54:35.381587",
     "exception": false,
     "start_time": "2020-09-07T11:54:35.344208",
     "status": "completed"
    },
    "tags": []
   },
   "outputs": [
    {
     "name": "stdout",
     "output_type": "stream",
     "text": [
      "<class 'pandas.core.frame.DataFrame'>\n",
      "RangeIndex: 29329 entries, 0 to 29328\n",
      "Data columns (total 3 columns):\n",
      " #   Column                Non-Null Count  Dtype \n",
      "---  ------                --------------  ----- \n",
      " 0   Geographic Area       29329 non-null  object\n",
      " 1   City                  29329 non-null  object\n",
      " 2   percent_completed_hs  29329 non-null  object\n",
      "dtypes: object(3)\n",
      "memory usage: 687.5+ KB\n"
     ]
    }
   ],
   "source": [
    "percent_over_25.info()"
   ]
  },
  {
   "cell_type": "code",
   "execution_count": 18,
   "metadata": {
    "execution": {
     "iopub.execute_input": "2020-09-07T11:54:35.427676Z",
     "iopub.status.busy": "2020-09-07T11:54:35.426938Z",
     "iopub.status.idle": "2020-09-07T11:54:36.248465Z",
     "shell.execute_reply": "2020-09-07T11:54:36.249025Z"
    },
    "papermill": {
     "duration": 0.852573,
     "end_time": "2020-09-07T11:54:36.249188",
     "exception": false,
     "start_time": "2020-09-07T11:54:35.396615",
     "status": "completed"
    },
    "tags": []
   },
   "outputs": [
    {
     "data": {
      "text/plain": [
       "Text(0.5, 1.0, \"Percentage of Given State's Population Above 25 that Has Graduated High School\")"
      ]
     },
     "execution_count": 18,
     "metadata": {},
     "output_type": "execute_result"
    },
    {
     "data": {
      "image/png": "[encoded data removed]",
      "text/plain": [
       "<Figure size 1080x720 with 1 Axes>"
      ]
     },
     "metadata": {},
     "output_type": "display_data"
    }
   ],
   "source": [
    "# High school graduation rate of the population that is older than 25 in states\n",
    "percent_over_25.percent_completed_hs.replace(['-'],0.0,inplace = True)\n",
    "percent_over_25.percent_completed_hs = percent_over_25.percent_completed_hs.astype(float)\n",
    "\n",
    "area_list = list(percent_over_25['Geographic Area'].unique())\n",
    "area_highschool = []\n",
    "\n",
    "for i in area_list:\n",
    "    x = percent_over_25[percent_over_25['Geographic Area']==i]\n",
    "    area_highschool_rate = sum(x.percent_completed_hs)/len(x)\n",
    "    area_highschool.append(area_highschool_rate)\n",
    "    \n",
    "# sorting\n",
    "data = pd.DataFrame({'area_list': area_list,'area_highschool_ratio':area_highschool})\n",
    "new_index = (data['area_highschool_ratio'].sort_values(ascending=True)).index.values\n",
    "sorted_data2 = data.reindex(new_index)\n",
    "\n",
    "# visualization\n",
    "plt.figure(figsize=(15,10))\n",
    "sns.barplot(x=sorted_data2['area_list'], y=sorted_data2['area_highschool_ratio'])\n",
    "plt.xticks(rotation= 0)\n",
    "plt.xlabel('States')\n",
    "plt.ylabel('High School Graduate Rate')\n",
    "plt.title(\"Percentage of Given State's Population Above 25 that Has Graduated High School\")"
   ]
  },
  {
   "cell_type": "code",
   "execution_count": 19,
   "metadata": {
    "execution": {
     "iopub.execute_input": "2020-09-07T11:54:36.295186Z",
     "iopub.status.busy": "2020-09-07T11:54:36.293942Z",
     "iopub.status.idle": "2020-09-07T11:54:36.298537Z",
     "shell.execute_reply": "2020-09-07T11:54:36.297807Z"
    },
    "papermill": {
     "duration": 0.033767,
     "end_time": "2020-09-07T11:54:36.298692",
     "exception": false,
     "start_time": "2020-09-07T11:54:36.264925",
     "status": "completed"
    },
    "tags": []
   },
   "outputs": [
    {
     "data": {
      "text/html": [
       "<div>\n",
       "<style scoped>\n",
       "    .dataframe tbody tr th:only-of-type {\n",
       "        vertical-align: middle;\n",
       "    }\n",
       "\n",
       "    .dataframe tbody tr th {\n",
       "        vertical-align: top;\n",
       "    }\n",
       "\n",
       "    .dataframe thead th {\n",
       "        text-align: right;\n",
       "    }\n",
       "</style>\n",
       "<table border=\"1\" class=\"dataframe\">\n",
       "  <thead>\n",
       "    <tr style=\"text-align: right;\">\n",
       "      <th></th>\n",
       "      <th>Geographic area</th>\n",
       "      <th>City</th>\n",
       "      <th>share_white</th>\n",
       "      <th>share_black</th>\n",
       "      <th>share_native_american</th>\n",
       "      <th>share_asian</th>\n",
       "      <th>share_hispanic</th>\n",
       "    </tr>\n",
       "  </thead>\n",
       "  <tbody>\n",
       "    <tr>\n",
       "      <th>0</th>\n",
       "      <td>AL</td>\n",
       "      <td>Abanda CDP</td>\n",
       "      <td>67.2</td>\n",
       "      <td>30.2</td>\n",
       "      <td>0</td>\n",
       "      <td>0</td>\n",
       "      <td>1.6</td>\n",
       "    </tr>\n",
       "    <tr>\n",
       "      <th>1</th>\n",
       "      <td>AL</td>\n",
       "      <td>Abbeville city</td>\n",
       "      <td>54.4</td>\n",
       "      <td>41.4</td>\n",
       "      <td>0.1</td>\n",
       "      <td>1</td>\n",
       "      <td>3.1</td>\n",
       "    </tr>\n",
       "    <tr>\n",
       "      <th>2</th>\n",
       "      <td>AL</td>\n",
       "      <td>Adamsville city</td>\n",
       "      <td>52.3</td>\n",
       "      <td>44.9</td>\n",
       "      <td>0.5</td>\n",
       "      <td>0.3</td>\n",
       "      <td>2.3</td>\n",
       "    </tr>\n",
       "    <tr>\n",
       "      <th>3</th>\n",
       "      <td>AL</td>\n",
       "      <td>Addison town</td>\n",
       "      <td>99.1</td>\n",
       "      <td>0.1</td>\n",
       "      <td>0</td>\n",
       "      <td>0.1</td>\n",
       "      <td>0.4</td>\n",
       "    </tr>\n",
       "    <tr>\n",
       "      <th>4</th>\n",
       "      <td>AL</td>\n",
       "      <td>Akron town</td>\n",
       "      <td>13.2</td>\n",
       "      <td>86.5</td>\n",
       "      <td>0</td>\n",
       "      <td>0</td>\n",
       "      <td>0.3</td>\n",
       "    </tr>\n",
       "  </tbody>\n",
       "</table>\n",
       "</div>"
      ],
      "text/plain": [
       "  Geographic area             City share_white share_black  \\\n",
       "0              AL       Abanda CDP        67.2        30.2   \n",
       "1              AL   Abbeville city        54.4        41.4   \n",
       "2              AL  Adamsville city        52.3        44.9   \n",
       "3              AL     Addison town        99.1         0.1   \n",
       "4              AL       Akron town        13.2        86.5   \n",
       "\n",
       "  share_native_american share_asian share_hispanic  \n",
       "0                     0           0            1.6  \n",
       "1                   0.1           1            3.1  \n",
       "2                   0.5         0.3            2.3  \n",
       "3                     0         0.1            0.4  \n",
       "4                     0           0            0.3  "
      ]
     },
     "execution_count": 19,
     "metadata": {},
     "output_type": "execute_result"
    }
   ],
   "source": [
    "race.head()"
   ]
  },
  {
   "cell_type": "code",
   "execution_count": 20,
   "metadata": {
    "execution": {
     "iopub.execute_input": "2020-09-07T11:54:36.345690Z",
     "iopub.status.busy": "2020-09-07T11:54:36.344674Z",
     "iopub.status.idle": "2020-09-07T11:54:36.355545Z",
     "shell.execute_reply": "2020-09-07T11:54:36.354982Z"
    },
    "papermill": {
     "duration": 0.040609,
     "end_time": "2020-09-07T11:54:36.355672",
     "exception": false,
     "start_time": "2020-09-07T11:54:36.315063",
     "status": "completed"
    },
    "tags": []
   },
   "outputs": [
    {
     "name": "stdout",
     "output_type": "stream",
     "text": [
      "<class 'pandas.core.frame.DataFrame'>\n",
      "RangeIndex: 29268 entries, 0 to 29267\n",
      "Data columns (total 7 columns):\n",
      " #   Column                 Non-Null Count  Dtype \n",
      "---  ------                 --------------  ----- \n",
      " 0   Geographic area        29268 non-null  object\n",
      " 1   City                   29268 non-null  object\n",
      " 2   share_white            29268 non-null  object\n",
      " 3   share_black            29268 non-null  object\n",
      " 4   share_native_american  29268 non-null  object\n",
      " 5   share_asian            29268 non-null  object\n",
      " 6   share_hispanic         29268 non-null  object\n",
      "dtypes: object(7)\n",
      "memory usage: 1.6+ MB\n"
     ]
    }
   ],
   "source": [
    "race.info()"
   ]
  },
  {
   "cell_type": "code",
   "execution_count": 21,
   "metadata": {
    "execution": {
     "iopub.execute_input": "2020-09-07T11:54:36.417325Z",
     "iopub.status.busy": "2020-09-07T11:54:36.416600Z",
     "iopub.status.idle": "2020-09-07T11:54:37.930188Z",
     "shell.execute_reply": "2020-09-07T11:54:37.929655Z"
    },
    "papermill": {
     "duration": 1.558773,
     "end_time": "2020-09-07T11:54:37.930341",
     "exception": false,
     "start_time": "2020-09-07T11:54:36.371568",
     "status": "completed"
    },
    "tags": []
   },
   "outputs": [
    {
     "data": {
      "text/plain": [
       "[Text(0, 0.5, 'States'),\n",
       " Text(0.5, 0, 'Percentage of Races'),\n",
       " Text(0.5, 1.0, \"Percentage of State's Population According to Races \")]"
      ]
     },
     "execution_count": 21,
     "metadata": {},
     "output_type": "execute_result"
    },
    {
     "data": {
      "image/png": "[encoded data removed]",
      "text/plain": [
       "<Figure size 648x1080 with 1 Axes>"
      ]
     },
     "metadata": {},
     "output_type": "display_data"
    }
   ],
   "source": [
    "# Percentage of state's population according to races that are black,white,native american, asian and hispanic\n",
    "race.replace(['-'],0.0,inplace = True)\n",
    "race.replace(['(X)'],0.0,inplace = True)\n",
    "race.loc[:,['share_white','share_black','share_native_american','share_asian','share_hispanic']] = race.loc[:,['share_white','share_black','share_native_american','share_asian','share_hispanic']].astype(float)\n",
    "area_list = list(race['Geographic area'].unique())\n",
    "\n",
    "share_white = []\n",
    "share_black = []\n",
    "share_native_american = []\n",
    "share_asian = []\n",
    "share_hispanic = []\n",
    "\n",
    "for i in area_list:      #Find the for each state\n",
    "    x = race[race['Geographic area']==i]\n",
    "    share_white.append(sum(x.share_white)/len(x))\n",
    "    share_black.append(sum(x.share_black) / len(x))\n",
    "    share_native_american.append(sum(x.share_native_american) / len(x))\n",
    "    share_asian.append(sum(x.share_asian) / len(x))\n",
    "    share_hispanic.append(sum(x.share_hispanic) / len(x))\n",
    "    \n",
    "# visualization\n",
    "f,ax = plt.subplots(figsize = (9,15))\n",
    "sns.barplot(x=share_white,            y=area_list,   color='green',    alpha = 0.5,    label='White' )\n",
    "sns.barplot(x=share_black,            y=area_list,   color='blue',     alpha = 0.7,    label='African American')\n",
    "sns.barplot(x=share_native_american,  y=area_list,   color='cyan',     alpha = 0.6,    label='Native American')\n",
    "sns.barplot(x=share_asian,            y=area_list,   color='yellow',   alpha = 0.6,    label='Asian')\n",
    "sns.barplot(x=share_hispanic,         y=area_list,   color='red',      alpha = 0.6,    label='Hispanic')\n",
    "\n",
    "ax.legend(loc='lower right',frameon = True)     # legend opacity\n",
    "ax.set(xlabel='Percentage of Races', ylabel='States', title = \"Percentage of State's Population According to Races \")    \n"
   ]
  },
  {
   "cell_type": "code",
   "execution_count": 22,
   "metadata": {
    "execution": {
     "iopub.execute_input": "2020-09-07T11:54:37.967649Z",
     "iopub.status.busy": "2020-09-07T11:54:37.966837Z",
     "iopub.status.idle": "2020-09-07T11:54:37.970430Z",
     "shell.execute_reply": "2020-09-07T11:54:37.969905Z"
    },
    "papermill": {
     "duration": 0.023402,
     "end_time": "2020-09-07T11:54:37.970551",
     "exception": false,
     "start_time": "2020-09-07T11:54:37.947149",
     "status": "completed"
    },
    "tags": []
   },
   "outputs": [],
   "source": [
    "#race - kill - percent_over_25 - percentage_people_below_poverty - house_income   - DATA"
   ]
  },
  {
   "cell_type": "markdown",
   "execution_count": null,
   "metadata": {
    "papermill": {
     "duration": 0.015712,
     "end_time": "2020-09-07T11:54:38.002136",
     "exception": false,
     "start_time": "2020-09-07T11:54:37.986424",
     "status": "completed"
    },
    "tags": []
   },
   "source": [
    "<a id = \"2\" ></a>\n",
    "# 2. Point Plot"
   ]
  },
  {
   "cell_type": "markdown",
   "execution_count": null,
   "metadata": {
    "papermill": {
     "duration": 0.015913,
     "end_time": "2020-09-07T11:54:38.035616",
     "exception": false,
     "start_time": "2020-09-07T11:54:38.019703",
     "status": "completed"
    },
    "tags": []
   },
   "source": [
    "Show point estimates and confidence intervals using scatter plot glyphs.\n",
    "\n",
    "A point plot represents an estimate of central tendency for a numeric variable by the position of scatter plot points and provides some indication of the uncertainty around that estimate using error bars.\n",
    "\n",
    "Point plots can be more useful than bar plots for focusing comparisons between different levels of one or more categorical variables. They are particularly adept at showing interactions: how the relationship between levels of one categorical variable changes across levels of a second categorical variable. The lines that join each point from the same hue level allow interactions to be judged by differences in slope, which is easier for the eyes than comparing the heights of several groups of points or bars."
   ]
  },
  {
   "cell_type": "code",
   "execution_count": 23,
   "metadata": {
    "execution": {
     "iopub.execute_input": "2020-09-07T11:54:38.080999Z",
     "iopub.status.busy": "2020-09-07T11:54:38.079985Z",
     "iopub.status.idle": "2020-09-07T11:54:38.086116Z",
     "shell.execute_reply": "2020-09-07T11:54:38.085462Z"
    },
    "papermill": {
     "duration": 0.034087,
     "end_time": "2020-09-07T11:54:38.086239",
     "exception": false,
     "start_time": "2020-09-07T11:54:38.052152",
     "status": "completed"
    },
    "tags": []
   },
   "outputs": [
    {
     "data": {
      "text/html": [
       "<div>\n",
       "<style scoped>\n",
       "    .dataframe tbody tr th:only-of-type {\n",
       "        vertical-align: middle;\n",
       "    }\n",
       "\n",
       "    .dataframe tbody tr th {\n",
       "        vertical-align: top;\n",
       "    }\n",
       "\n",
       "    .dataframe thead th {\n",
       "        text-align: right;\n",
       "    }\n",
       "</style>\n",
       "<table border=\"1\" class=\"dataframe\">\n",
       "  <thead>\n",
       "    <tr style=\"text-align: right;\">\n",
       "      <th></th>\n",
       "      <th>area_list</th>\n",
       "      <th>area_poverty_ratio</th>\n",
       "    </tr>\n",
       "  </thead>\n",
       "  <tbody>\n",
       "    <tr>\n",
       "      <th>24</th>\n",
       "      <td>MS</td>\n",
       "      <td>26.884254</td>\n",
       "    </tr>\n",
       "    <tr>\n",
       "      <th>2</th>\n",
       "      <td>AZ</td>\n",
       "      <td>25.268071</td>\n",
       "    </tr>\n",
       "    <tr>\n",
       "      <th>10</th>\n",
       "      <td>GA</td>\n",
       "      <td>23.663636</td>\n",
       "    </tr>\n",
       "    <tr>\n",
       "      <th>3</th>\n",
       "      <td>AR</td>\n",
       "      <td>22.963216</td>\n",
       "    </tr>\n",
       "    <tr>\n",
       "      <th>31</th>\n",
       "      <td>NM</td>\n",
       "      <td>22.507675</td>\n",
       "    </tr>\n",
       "  </tbody>\n",
       "</table>\n",
       "</div>"
      ],
      "text/plain": [
       "   area_list  area_poverty_ratio\n",
       "24        MS           26.884254\n",
       "2         AZ           25.268071\n",
       "10        GA           23.663636\n",
       "3         AR           22.963216\n",
       "31        NM           22.507675"
      ]
     },
     "execution_count": 23,
     "metadata": {},
     "output_type": "execute_result"
    }
   ],
   "source": [
    "sorted_data.head()"
   ]
  },
  {
   "cell_type": "code",
   "execution_count": 24,
   "metadata": {
    "execution": {
     "iopub.execute_input": "2020-09-07T11:54:38.137986Z",
     "iopub.status.busy": "2020-09-07T11:54:38.137066Z",
     "iopub.status.idle": "2020-09-07T11:54:38.144072Z",
     "shell.execute_reply": "2020-09-07T11:54:38.143411Z"
    },
    "papermill": {
     "duration": 0.037533,
     "end_time": "2020-09-07T11:54:38.144211",
     "exception": false,
     "start_time": "2020-09-07T11:54:38.106678",
     "status": "completed"
    },
    "tags": []
   },
   "outputs": [
    {
     "data": {
      "text/html": [
       "<div>\n",
       "<style scoped>\n",
       "    .dataframe tbody tr th:only-of-type {\n",
       "        vertical-align: middle;\n",
       "    }\n",
       "\n",
       "    .dataframe tbody tr th {\n",
       "        vertical-align: top;\n",
       "    }\n",
       "\n",
       "    .dataframe thead th {\n",
       "        text-align: right;\n",
       "    }\n",
       "</style>\n",
       "<table border=\"1\" class=\"dataframe\">\n",
       "  <thead>\n",
       "    <tr style=\"text-align: right;\">\n",
       "      <th></th>\n",
       "      <th>area_list</th>\n",
       "      <th>area_highschool_ratio</th>\n",
       "    </tr>\n",
       "  </thead>\n",
       "  <tbody>\n",
       "    <tr>\n",
       "      <th>43</th>\n",
       "      <td>TX</td>\n",
       "      <td>74.086949</td>\n",
       "    </tr>\n",
       "    <tr>\n",
       "      <th>24</th>\n",
       "      <td>MS</td>\n",
       "      <td>78.470718</td>\n",
       "    </tr>\n",
       "    <tr>\n",
       "      <th>10</th>\n",
       "      <td>GA</td>\n",
       "      <td>78.634450</td>\n",
       "    </tr>\n",
       "    <tr>\n",
       "      <th>31</th>\n",
       "      <td>NM</td>\n",
       "      <td>78.971783</td>\n",
       "    </tr>\n",
       "    <tr>\n",
       "      <th>18</th>\n",
       "      <td>LA</td>\n",
       "      <td>79.122363</td>\n",
       "    </tr>\n",
       "  </tbody>\n",
       "</table>\n",
       "</div>"
      ],
      "text/plain": [
       "   area_list  area_highschool_ratio\n",
       "43        TX              74.086949\n",
       "24        MS              78.470718\n",
       "10        GA              78.634450\n",
       "31        NM              78.971783\n",
       "18        LA              79.122363"
      ]
     },
     "execution_count": 24,
     "metadata": {},
     "output_type": "execute_result"
    }
   ],
   "source": [
    "sorted_data2.head()"
   ]
  },
  {
   "cell_type": "code",
   "execution_count": 25,
   "metadata": {
    "execution": {
     "iopub.execute_input": "2020-09-07T11:54:38.191761Z",
     "iopub.status.busy": "2020-09-07T11:54:38.190662Z",
     "iopub.status.idle": "2020-09-07T11:54:38.222404Z",
     "shell.execute_reply": "2020-09-07T11:54:38.221795Z"
    },
    "papermill": {
     "duration": 0.058495,
     "end_time": "2020-09-07T11:54:38.222530",
     "exception": false,
     "start_time": "2020-09-07T11:54:38.164035",
     "status": "completed"
    },
    "tags": []
   },
   "outputs": [],
   "source": [
    "# High school graduation rate vs Poverty rate of each state\n",
    "sorted_data['area_poverty_ratio'] = sorted_data['area_poverty_ratio']/max( sorted_data['area_poverty_ratio'])\n",
    "sorted_data2['area_highschool_ratio'] = sorted_data2['area_highschool_ratio']/max( sorted_data2['area_highschool_ratio'])\n",
    "# ^^^ [1,2,3,4,5] vs  [600,700,800,900,1000] we should have similar scale, we need to normalize the data ^^^\n",
    "# Divide to max number 0< [1,2,3,4,5]/5 <1  0< [600,700,800,900,1000]/1000 <1\n",
    "\n",
    "data = pd.concat([sorted_data,sorted_data2['area_highschool_ratio']],axis=1)  #concatenation\n",
    "data.sort_values('area_poverty_ratio',inplace=True)"
   ]
  },
  {
   "cell_type": "code",
   "execution_count": 26,
   "metadata": {
    "execution": {
     "iopub.execute_input": "2020-09-07T11:54:38.265601Z",
     "iopub.status.busy": "2020-09-07T11:54:38.264920Z",
     "iopub.status.idle": "2020-09-07T11:54:38.269802Z",
     "shell.execute_reply": "2020-09-07T11:54:38.269334Z"
    },
    "papermill": {
     "duration": 0.030884,
     "end_time": "2020-09-07T11:54:38.269915",
     "exception": false,
     "start_time": "2020-09-07T11:54:38.239031",
     "status": "completed"
    },
    "tags": []
   },
   "outputs": [
    {
     "data": {
      "text/html": [
       "<div>\n",
       "<style scoped>\n",
       "    .dataframe tbody tr th:only-of-type {\n",
       "        vertical-align: middle;\n",
       "    }\n",
       "\n",
       "    .dataframe tbody tr th {\n",
       "        vertical-align: top;\n",
       "    }\n",
       "\n",
       "    .dataframe thead th {\n",
       "        text-align: right;\n",
       "    }\n",
       "</style>\n",
       "<table border=\"1\" class=\"dataframe\">\n",
       "  <thead>\n",
       "    <tr style=\"text-align: right;\">\n",
       "      <th></th>\n",
       "      <th>area_list</th>\n",
       "      <th>area_poverty_ratio</th>\n",
       "      <th>area_highschool_ratio</th>\n",
       "    </tr>\n",
       "  </thead>\n",
       "  <tbody>\n",
       "    <tr>\n",
       "      <th>30</th>\n",
       "      <td>NJ</td>\n",
       "      <td>0.303558</td>\n",
       "      <td>0.983615</td>\n",
       "    </tr>\n",
       "    <tr>\n",
       "      <th>50</th>\n",
       "      <td>WY</td>\n",
       "      <td>0.337139</td>\n",
       "      <td>0.912479</td>\n",
       "    </tr>\n",
       "    <tr>\n",
       "      <th>6</th>\n",
       "      <td>CT</td>\n",
       "      <td>0.339883</td>\n",
       "      <td>0.995254</td>\n",
       "    </tr>\n",
       "    <tr>\n",
       "      <th>21</th>\n",
       "      <td>MA</td>\n",
       "      <td>0.355090</td>\n",
       "      <td>1.000000</td>\n",
       "    </tr>\n",
       "    <tr>\n",
       "      <th>20</th>\n",
       "      <td>MD</td>\n",
       "      <td>0.382097</td>\n",
       "      <td>0.957107</td>\n",
       "    </tr>\n",
       "  </tbody>\n",
       "</table>\n",
       "</div>"
      ],
      "text/plain": [
       "   area_list  area_poverty_ratio  area_highschool_ratio\n",
       "30        NJ            0.303558               0.983615\n",
       "50        WY            0.337139               0.912479\n",
       "6         CT            0.339883               0.995254\n",
       "21        MA            0.355090               1.000000\n",
       "20        MD            0.382097               0.957107"
      ]
     },
     "execution_count": 26,
     "metadata": {},
     "output_type": "execute_result"
    }
   ],
   "source": [
    "data.head()"
   ]
  },
  {
   "cell_type": "code",
   "execution_count": 27,
   "metadata": {
    "execution": {
     "iopub.execute_input": "2020-09-07T11:54:38.309534Z",
     "iopub.status.busy": "2020-09-07T11:54:38.308805Z",
     "iopub.status.idle": "2020-09-07T11:54:38.313156Z",
     "shell.execute_reply": "2020-09-07T11:54:38.312548Z"
    },
    "papermill": {
     "duration": 0.026335,
     "end_time": "2020-09-07T11:54:38.313295",
     "exception": false,
     "start_time": "2020-09-07T11:54:38.286960",
     "status": "completed"
    },
    "tags": []
   },
   "outputs": [
    {
     "data": {
      "text/plain": [
       "Index(['area_list', 'area_poverty_ratio', 'area_highschool_ratio'], dtype='object')"
      ]
     },
     "execution_count": 27,
     "metadata": {},
     "output_type": "execute_result"
    }
   ],
   "source": [
    "data.columns"
   ]
  },
  {
   "cell_type": "code",
   "execution_count": 28,
   "metadata": {
    "execution": {
     "iopub.execute_input": "2020-09-07T11:54:38.363202Z",
     "iopub.status.busy": "2020-09-07T11:54:38.362180Z",
     "iopub.status.idle": "2020-09-07T11:54:39.174524Z",
     "shell.execute_reply": "2020-09-07T11:54:39.175066Z"
    },
    "papermill": {
     "duration": 0.845333,
     "end_time": "2020-09-07T11:54:39.175219",
     "exception": false,
     "start_time": "2020-09-07T11:54:38.329886",
     "status": "completed"
    },
    "tags": []
   },
   "outputs": [
    {
     "data": {
      "image/png": "[encoded data removed]",
      "text/plain": [
       "<Figure size 1440x720 with 1 Axes>"
      ]
     },
     "metadata": {},
     "output_type": "display_data"
    }
   ],
   "source": [
    "# visualize\n",
    "f,ax1 = plt.subplots(figsize =(20,10))\n",
    "sns.pointplot(x='area_list',     y='area_poverty_ratio',      data=data,    color='lime',   alpha=0.8)\n",
    "sns.pointplot(x='area_list',     y='area_highschool_ratio',   data=data,    color='red',    alpha=0.8)\n",
    "\n",
    "plt.text(40,0.6,   'high school graduate ratio',  color='red',   fontsize = 17,   style = 'italic')\n",
    "plt.text(40,0.55,  'poverty ratio',               color='lime',   fontsize = 18,   style = 'italic')\n",
    "\n",
    "plt.xlabel('States',fontsize = 15,color='blue')\n",
    "plt.ylabel('Values',fontsize = 15,color='blue')\n",
    "plt.title('High School Graduate  VS  Poverty Rate',fontsize = 20,color='blue')\n",
    "plt.grid()"
   ]
  },
  {
   "cell_type": "code",
   "execution_count": 29,
   "metadata": {
    "execution": {
     "iopub.execute_input": "2020-09-07T11:54:39.264368Z",
     "iopub.status.busy": "2020-09-07T11:54:39.263445Z",
     "iopub.status.idle": "2020-09-07T11:54:39.266651Z",
     "shell.execute_reply": "2020-09-07T11:54:39.266017Z"
    },
    "papermill": {
     "duration": 0.073165,
     "end_time": "2020-09-07T11:54:39.266770",
     "exception": false,
     "start_time": "2020-09-07T11:54:39.193605",
     "status": "completed"
    },
    "tags": []
   },
   "outputs": [],
   "source": [
    "#race - kill - percent_over_25 - percentage_people_below_poverty - house_income   - DATA"
   ]
  },
  {
   "cell_type": "markdown",
   "execution_count": null,
   "metadata": {
    "papermill": {
     "duration": 0.020817,
     "end_time": "2020-09-07T11:54:39.307846",
     "exception": false,
     "start_time": "2020-09-07T11:54:39.287029",
     "status": "completed"
    },
    "tags": []
   },
   "source": [
    "<a id = \"3\" ></a>\n",
    "# 3. Joint Plot"
   ]
  },
  {
   "cell_type": "markdown",
   "execution_count": null,
   "metadata": {
    "papermill": {
     "duration": 0.02277,
     "end_time": "2020-09-07T11:54:39.351336",
     "exception": false,
     "start_time": "2020-09-07T11:54:39.328566",
     "status": "completed"
    },
    "tags": []
   },
   "source": [
    "Draw a plot of two variables with bivariate and univariate graphs.\n",
    "\n",
    "This function provides a convenient interface to the JointGrid class, with several canned plot kinds. This is intended to be a fairly lightweight wrapper; if you need more flexibility, you should use JointGrid directly.\n",
    "\n",
    "seaborn.jointplot(x, y, data=None, kind='scatter', stat_func=None, color=None, height=6, ratio=5, space=0.2, dropna=True, xlim=None, ylim=None, joint_kws=None, marginal_kws=None, annot_kws=None, **kwargs)"
   ]
  },
  {
   "cell_type": "code",
   "execution_count": 30,
   "metadata": {
    "execution": {
     "iopub.execute_input": "2020-09-07T11:54:39.398011Z",
     "iopub.status.busy": "2020-09-07T11:54:39.397101Z",
     "iopub.status.idle": "2020-09-07T11:54:40.785595Z",
     "shell.execute_reply": "2020-09-07T11:54:40.785040Z"
    },
    "papermill": {
     "duration": 1.415325,
     "end_time": "2020-09-07T11:54:40.785739",
     "exception": false,
     "start_time": "2020-09-07T11:54:39.370414",
     "status": "completed"
    },
    "tags": []
   },
   "outputs": [
    {
     "data": {
      "image/png": "[encoded data removed]",
      "text/plain": [
       "<Figure size 504x504 with 3 Axes>"
      ]
     },
     "metadata": {},
     "output_type": "display_data"
    }
   ],
   "source": [
    "# Visualization of high school graduation rate vs Poverty rate of each state with different style of seaborn code\n",
    "\n",
    "# pearsonr= if it is 1, there is positive correlation and if it is, -1 there is negative correlation.\n",
    "# If it is zero, there is no correlation between variables\n",
    "\n",
    "#sorted_data['area_poverty_ratio'] = sorted_data['area_poverty_ratio']/max( sorted_data['area_poverty_ratio'])\n",
    "#sorted_data2['area_highschool_ratio'] = sorted_data2['area_highschool_ratio']/max( sorted_data2['area_highschool_ratio'])\n",
    "\n",
    "# Show the joint distribution using kernel density estimation \n",
    "g = sns.jointplot(data.area_poverty_ratio, data.area_highschool_ratio, kind=\"kde\", size=7)\n",
    "plt.savefig('graph.png')\n",
    "plt.show()"
   ]
  },
  {
   "cell_type": "code",
   "execution_count": 31,
   "metadata": {
    "execution": {
     "iopub.execute_input": "2020-09-07T11:54:40.833741Z",
     "iopub.status.busy": "2020-09-07T11:54:40.828636Z",
     "iopub.status.idle": "2020-09-07T11:54:41.483430Z",
     "shell.execute_reply": "2020-09-07T11:54:41.482737Z"
    },
    "papermill": {
     "duration": 0.67905,
     "end_time": "2020-09-07T11:54:41.483556",
     "exception": false,
     "start_time": "2020-09-07T11:54:40.804506",
     "status": "completed"
    },
    "tags": []
   },
   "outputs": [
    {
     "data": {
      "image/png": "[encoded data removed]",
      "text/plain": [
       "<Figure size 360x360 with 3 Axes>"
      ]
     },
     "metadata": {},
     "output_type": "display_data"
    }
   ],
   "source": [
    "# We use the same data, so define data = \"data name\"\n",
    "g = sns.jointplot(\"area_poverty_ratio\", \"area_highschool_ratio\", data=data,    size=5,   ratio=3,    color=\"r\")"
   ]
  },
  {
   "cell_type": "markdown",
   "execution_count": null,
   "metadata": {
    "papermill": {
     "duration": 0.018734,
     "end_time": "2020-09-07T11:54:41.521663",
     "exception": false,
     "start_time": "2020-09-07T11:54:41.502929",
     "status": "completed"
    },
    "tags": []
   },
   "source": [
    "<a id = \"4\" ></a>\n",
    "# 4. Pie Chart"
   ]
  },
  {
   "cell_type": "code",
   "execution_count": 32,
   "metadata": {
    "execution": {
     "iopub.execute_input": "2020-09-07T11:54:41.565262Z",
     "iopub.status.busy": "2020-09-07T11:54:41.564599Z",
     "iopub.status.idle": "2020-09-07T11:54:41.568098Z",
     "shell.execute_reply": "2020-09-07T11:54:41.567529Z"
    },
    "papermill": {
     "duration": 0.02729,
     "end_time": "2020-09-07T11:54:41.568227",
     "exception": false,
     "start_time": "2020-09-07T11:54:41.540937",
     "status": "completed"
    },
    "tags": []
   },
   "outputs": [],
   "source": [
    "#race - kill - percent_over_25 - percentage_people_below_poverty - house_income   - DATA"
   ]
  },
  {
   "cell_type": "code",
   "execution_count": 33,
   "metadata": {
    "execution": {
     "iopub.execute_input": "2020-09-07T11:54:41.625984Z",
     "iopub.status.busy": "2020-09-07T11:54:41.612509Z",
     "iopub.status.idle": "2020-09-07T11:54:41.630827Z",
     "shell.execute_reply": "2020-09-07T11:54:41.630168Z"
    },
    "papermill": {
     "duration": 0.043293,
     "end_time": "2020-09-07T11:54:41.630948",
     "exception": false,
     "start_time": "2020-09-07T11:54:41.587655",
     "status": "completed"
    },
    "tags": []
   },
   "outputs": [
    {
     "data": {
      "text/html": [
       "<div>\n",
       "<style scoped>\n",
       "    .dataframe tbody tr th:only-of-type {\n",
       "        vertical-align: middle;\n",
       "    }\n",
       "\n",
       "    .dataframe tbody tr th {\n",
       "        vertical-align: top;\n",
       "    }\n",
       "\n",
       "    .dataframe thead th {\n",
       "        text-align: right;\n",
       "    }\n",
       "</style>\n",
       "<table border=\"1\" class=\"dataframe\">\n",
       "  <thead>\n",
       "    <tr style=\"text-align: right;\">\n",
       "      <th></th>\n",
       "      <th>id</th>\n",
       "      <th>name</th>\n",
       "      <th>date</th>\n",
       "      <th>manner_of_death</th>\n",
       "      <th>armed</th>\n",
       "      <th>age</th>\n",
       "      <th>gender</th>\n",
       "      <th>race</th>\n",
       "      <th>city</th>\n",
       "      <th>state</th>\n",
       "      <th>signs_of_mental_illness</th>\n",
       "      <th>threat_level</th>\n",
       "      <th>flee</th>\n",
       "      <th>body_camera</th>\n",
       "    </tr>\n",
       "  </thead>\n",
       "  <tbody>\n",
       "    <tr>\n",
       "      <th>0</th>\n",
       "      <td>3</td>\n",
       "      <td>Tim Elliot</td>\n",
       "      <td>02/01/15</td>\n",
       "      <td>shot</td>\n",
       "      <td>gun</td>\n",
       "      <td>53.0</td>\n",
       "      <td>M</td>\n",
       "      <td>A</td>\n",
       "      <td>Shelton</td>\n",
       "      <td>WA</td>\n",
       "      <td>True</td>\n",
       "      <td>attack</td>\n",
       "      <td>Not fleeing</td>\n",
       "      <td>False</td>\n",
       "    </tr>\n",
       "    <tr>\n",
       "      <th>1</th>\n",
       "      <td>4</td>\n",
       "      <td>Lewis Lee Lembke</td>\n",
       "      <td>02/01/15</td>\n",
       "      <td>shot</td>\n",
       "      <td>gun</td>\n",
       "      <td>47.0</td>\n",
       "      <td>M</td>\n",
       "      <td>W</td>\n",
       "      <td>Aloha</td>\n",
       "      <td>OR</td>\n",
       "      <td>False</td>\n",
       "      <td>attack</td>\n",
       "      <td>Not fleeing</td>\n",
       "      <td>False</td>\n",
       "    </tr>\n",
       "    <tr>\n",
       "      <th>2</th>\n",
       "      <td>5</td>\n",
       "      <td>John Paul Quintero</td>\n",
       "      <td>03/01/15</td>\n",
       "      <td>shot and Tasered</td>\n",
       "      <td>unarmed</td>\n",
       "      <td>23.0</td>\n",
       "      <td>M</td>\n",
       "      <td>H</td>\n",
       "      <td>Wichita</td>\n",
       "      <td>KS</td>\n",
       "      <td>False</td>\n",
       "      <td>other</td>\n",
       "      <td>Not fleeing</td>\n",
       "      <td>False</td>\n",
       "    </tr>\n",
       "    <tr>\n",
       "      <th>3</th>\n",
       "      <td>8</td>\n",
       "      <td>Matthew Hoffman</td>\n",
       "      <td>04/01/15</td>\n",
       "      <td>shot</td>\n",
       "      <td>toy weapon</td>\n",
       "      <td>32.0</td>\n",
       "      <td>M</td>\n",
       "      <td>W</td>\n",
       "      <td>San Francisco</td>\n",
       "      <td>CA</td>\n",
       "      <td>True</td>\n",
       "      <td>attack</td>\n",
       "      <td>Not fleeing</td>\n",
       "      <td>False</td>\n",
       "    </tr>\n",
       "    <tr>\n",
       "      <th>4</th>\n",
       "      <td>9</td>\n",
       "      <td>Michael Rodriguez</td>\n",
       "      <td>04/01/15</td>\n",
       "      <td>shot</td>\n",
       "      <td>nail gun</td>\n",
       "      <td>39.0</td>\n",
       "      <td>M</td>\n",
       "      <td>H</td>\n",
       "      <td>Evans</td>\n",
       "      <td>CO</td>\n",
       "      <td>False</td>\n",
       "      <td>attack</td>\n",
       "      <td>Not fleeing</td>\n",
       "      <td>False</td>\n",
       "    </tr>\n",
       "  </tbody>\n",
       "</table>\n",
       "</div>"
      ],
      "text/plain": [
       "   id                name      date   manner_of_death       armed   age  \\\n",
       "0   3          Tim Elliot  02/01/15              shot         gun  53.0   \n",
       "1   4    Lewis Lee Lembke  02/01/15              shot         gun  47.0   \n",
       "2   5  John Paul Quintero  03/01/15  shot and Tasered     unarmed  23.0   \n",
       "3   8     Matthew Hoffman  04/01/15              shot  toy weapon  32.0   \n",
       "4   9   Michael Rodriguez  04/01/15              shot    nail gun  39.0   \n",
       "\n",
       "  gender race           city state  signs_of_mental_illness threat_level  \\\n",
       "0      M    A        Shelton    WA                     True       attack   \n",
       "1      M    W          Aloha    OR                    False       attack   \n",
       "2      M    H        Wichita    KS                    False        other   \n",
       "3      M    W  San Francisco    CA                     True       attack   \n",
       "4      M    H          Evans    CO                    False       attack   \n",
       "\n",
       "          flee  body_camera  \n",
       "0  Not fleeing        False  \n",
       "1  Not fleeing        False  \n",
       "2  Not fleeing        False  \n",
       "3  Not fleeing        False  \n",
       "4  Not fleeing        False  "
      ]
     },
     "execution_count": 33,
     "metadata": {},
     "output_type": "execute_result"
    }
   ],
   "source": [
    "kill.head()"
   ]
  },
  {
   "cell_type": "code",
   "execution_count": 34,
   "metadata": {
    "execution": {
     "iopub.execute_input": "2020-09-07T11:54:41.678528Z",
     "iopub.status.busy": "2020-09-07T11:54:41.677439Z",
     "iopub.status.idle": "2020-09-07T11:54:41.682054Z",
     "shell.execute_reply": "2020-09-07T11:54:41.681453Z"
    },
    "papermill": {
     "duration": 0.031772,
     "end_time": "2020-09-07T11:54:41.682176",
     "exception": false,
     "start_time": "2020-09-07T11:54:41.650404",
     "status": "completed"
    },
    "tags": []
   },
   "outputs": [
    {
     "data": {
      "text/plain": [
       "W    1201\n",
       "B     618\n",
       "H     423\n",
       "A      39\n",
       "N      31\n",
       "O      28\n",
       "Name: race, dtype: int64"
      ]
     },
     "execution_count": 34,
     "metadata": {},
     "output_type": "execute_result"
    }
   ],
   "source": [
    "kill.race.value_counts()"
   ]
  },
  {
   "cell_type": "code",
   "execution_count": 35,
   "metadata": {
    "execution": {
     "iopub.execute_input": "2020-09-07T11:54:41.744843Z",
     "iopub.status.busy": "2020-09-07T11:54:41.742699Z",
     "iopub.status.idle": "2020-09-07T11:54:41.810886Z",
     "shell.execute_reply": "2020-09-07T11:54:41.810167Z"
    },
    "papermill": {
     "duration": 0.109292,
     "end_time": "2020-09-07T11:54:41.811009",
     "exception": false,
     "start_time": "2020-09-07T11:54:41.701717",
     "status": "completed"
    },
    "tags": []
   },
   "outputs": [
    {
     "data": {
      "text/plain": [
       "Text(0.5, 1.0, 'Killed People According to Races')"
      ]
     },
     "execution_count": 35,
     "metadata": {},
     "output_type": "execute_result"
    },
    {
     "data": {
      "image/png": "[encoded data removed]",
      "text/plain": [
       "<Figure size 504x504 with 1 Axes>"
      ]
     },
     "metadata": {},
     "output_type": "display_data"
    }
   ],
   "source": [
    "# Race rates according in kill data \n",
    "kill.race.dropna(inplace = True)\n",
    "labels = kill.race.value_counts().index\n",
    "colors = ['grey','blue','red','yellow','green','brown']\n",
    "explode = [0,0,0,0,0,0]\n",
    "sizes = kill.race.value_counts().values\n",
    "\n",
    "# visual\n",
    "plt.figure(figsize = (7,7))\n",
    "plt.pie(sizes, explode=explode, labels=labels, colors=colors, autopct='%1.1f%%')\n",
    "plt.title('Killed People According to Races',color = 'blue',fontsize = 15)"
   ]
  },
  {
   "cell_type": "markdown",
   "execution_count": null,
   "metadata": {
    "papermill": {
     "duration": 0.019039,
     "end_time": "2020-09-07T11:54:41.849667",
     "exception": false,
     "start_time": "2020-09-07T11:54:41.830628",
     "status": "completed"
    },
    "tags": []
   },
   "source": [
    "<a id = \"5\" ></a>\n",
    "# 5.  Lm Plot"
   ]
  },
  {
   "cell_type": "markdown",
   "execution_count": null,
   "metadata": {
    "papermill": {
     "duration": 0.019631,
     "end_time": "2020-09-07T11:54:41.889153",
     "exception": false,
     "start_time": "2020-09-07T11:54:41.869522",
     "status": "completed"
    },
    "tags": []
   },
   "source": [
    "Plot data and regression model fits across a FacetGrid.\n",
    "\n",
    "This function combines regplot() and FacetGrid. It is intended as a convenient interface to fit regression models across conditional subsets of a dataset.\n",
    "\n",
    "When thinking about how to assign variables to different facets, a general rule is that it makes sense to use hue for the most important comparison, followed by col and row. However, always think about your particular dataset and the goals of the visualization you are creating."
   ]
  },
  {
   "cell_type": "code",
   "execution_count": 36,
   "metadata": {
    "execution": {
     "iopub.execute_input": "2020-09-07T11:54:41.945253Z",
     "iopub.status.busy": "2020-09-07T11:54:41.940534Z",
     "iopub.status.idle": "2020-09-07T11:54:42.271477Z",
     "shell.execute_reply": "2020-09-07T11:54:42.270792Z"
    },
    "papermill": {
     "duration": 0.362705,
     "end_time": "2020-09-07T11:54:42.271602",
     "exception": false,
     "start_time": "2020-09-07T11:54:41.908897",
     "status": "completed"
    },
    "tags": []
   },
   "outputs": [
    {
     "data": {
      "image/png": "[encoded data removed]",
      "text/plain": [
       "<Figure size 360x360 with 1 Axes>"
      ]
     },
     "metadata": {},
     "output_type": "display_data"
    }
   ],
   "source": [
    "# Visualization of high school graduation rate vs Poverty rate of each state with different style of seaborn code\n",
    "# Show the results of a linear regression within each dataset\n",
    "sns.lmplot(x=\"area_poverty_ratio\", y=\"area_highschool_ratio\", data=data)\n",
    "plt.show()"
   ]
  },
  {
   "cell_type": "markdown",
   "execution_count": null,
   "metadata": {
    "papermill": {
     "duration": 0.02008,
     "end_time": "2020-09-07T11:54:42.312401",
     "exception": false,
     "start_time": "2020-09-07T11:54:42.292321",
     "status": "completed"
    },
    "tags": []
   },
   "source": [
    "<a id = \"6\" ></a>\n",
    "# 6. Kde Plot"
   ]
  },
  {
   "cell_type": "markdown",
   "execution_count": null,
   "metadata": {
    "papermill": {
     "duration": 0.020035,
     "end_time": "2020-09-07T11:54:42.352592",
     "exception": false,
     "start_time": "2020-09-07T11:54:42.332557",
     "status": "completed"
    },
    "tags": []
   },
   "source": [
    "seaborn.kdeplot(data, data2=None, shade=False, vertical=False, kernel='gau', bw='scott', gridsize=100, cut=3, clip=None, legend=True, cumulative=False, shade_lowest=True, cbar=False, cbar_ax=None, cbar_kws=None, ax=None, **kwargs)\n",
    "\n",
    "Fit and plot a univariate or bivariate kernel density estimate."
   ]
  },
  {
   "cell_type": "code",
   "execution_count": 37,
   "metadata": {
    "execution": {
     "iopub.execute_input": "2020-09-07T11:54:42.405682Z",
     "iopub.status.busy": "2020-09-07T11:54:42.400758Z",
     "iopub.status.idle": "2020-09-07T11:54:43.075950Z",
     "shell.execute_reply": "2020-09-07T11:54:43.076454Z"
    },
    "papermill": {
     "duration": 0.702103,
     "end_time": "2020-09-07T11:54:43.076620",
     "exception": false,
     "start_time": "2020-09-07T11:54:42.374517",
     "status": "completed"
    },
    "tags": []
   },
   "outputs": [
    {
     "data": {
      "image/png": "[encoded data removed]",
      "text/plain": [
       "<Figure size 432x288 with 1 Axes>"
      ]
     },
     "metadata": {},
     "output_type": "display_data"
    }
   ],
   "source": [
    "# Visualization of high school graduation rate vs Poverty rate of each state with different style of seaborn code\n",
    "sns.kdeplot(data.area_poverty_ratio, data.area_highschool_ratio, shade=True, cut=3)\n",
    "plt.show()"
   ]
  },
  {
   "cell_type": "markdown",
   "execution_count": null,
   "metadata": {
    "papermill": {
     "duration": 0.020227,
     "end_time": "2020-09-07T11:54:43.117256",
     "exception": false,
     "start_time": "2020-09-07T11:54:43.097029",
     "status": "completed"
    },
    "tags": []
   },
   "source": [
    "<a id = \"7\" ></a>\n",
    "# 7. Violin Plot"
   ]
  },
  {
   "cell_type": "markdown",
   "execution_count": null,
   "metadata": {
    "papermill": {
     "duration": 0.020045,
     "end_time": "2020-09-07T11:54:43.157902",
     "exception": false,
     "start_time": "2020-09-07T11:54:43.137857",
     "status": "completed"
    },
    "tags": []
   },
   "source": [
    "A violin plot plays a similar role as a box and whisker plot. It shows the distribution of quantitative data across several levels of one (or more) categorical variables such that those distributions can be compared. Unlike a box plot, in which all of the plot components correspond to actual datapoints, the violin plot features a kernel density estimation of the underlying distribution.\n",
    "\n",
    "This can be an effective and attractive way to show multiple distributions of data at once, but keep in mind that the estimation procedure is influenced by the sample size, and violins for relatively small samples might look misleadingly smooth."
   ]
  },
  {
   "cell_type": "code",
   "execution_count": 38,
   "metadata": {
    "execution": {
     "iopub.execute_input": "2020-09-07T11:54:43.208217Z",
     "iopub.status.busy": "2020-09-07T11:54:43.205141Z",
     "iopub.status.idle": "2020-09-07T11:54:43.331536Z",
     "shell.execute_reply": "2020-09-07T11:54:43.330852Z"
    },
    "papermill": {
     "duration": 0.153117,
     "end_time": "2020-09-07T11:54:43.331656",
     "exception": false,
     "start_time": "2020-09-07T11:54:43.178539",
     "status": "completed"
    },
    "tags": []
   },
   "outputs": [
    {
     "data": {
      "image/png": "[encoded data removed]",
      "text/plain": [
       "<Figure size 432x288 with 1 Axes>"
      ]
     },
     "metadata": {},
     "output_type": "display_data"
    }
   ],
   "source": [
    "# Show each distribution with both violins and points\n",
    "# Use cubehelix to get a custom sequential palette\n",
    "pal = sns.cubehelix_palette(2, rot=-.5, dark=.3)\n",
    "sns.violinplot(data=data, palette=pal, inner=\"points\")\n",
    "plt.show()"
   ]
  },
  {
   "cell_type": "markdown",
   "execution_count": null,
   "metadata": {
    "papermill": {
     "duration": 0.020691,
     "end_time": "2020-09-07T11:54:43.373632",
     "exception": false,
     "start_time": "2020-09-07T11:54:43.352941",
     "status": "completed"
    },
    "tags": []
   },
   "source": [
    "Draw a combination of boxplot and kernel density estimate.\n",
    "\n",
    "A violin plot plays a similar role as a box and whisker plot. It shows the distribution of quantitative data across several levels of one (or more) categorical variables such that those distributions can be compared. Unlike a box plot, in which all of the plot components correspond to actual datapoints, the violin plot features a kernel density estimation of the underlying distribution.\n",
    "\n",
    "This can be an effective and attractive way to show multiple distributions of data at once, but keep in mind that the estimation procedure is influenced by the sample size, and violins for relatively small samples might look misleadingly smooth."
   ]
  },
  {
   "cell_type": "code",
   "execution_count": 39,
   "metadata": {
    "execution": {
     "iopub.execute_input": "2020-09-07T11:54:43.421081Z",
     "iopub.status.busy": "2020-09-07T11:54:43.420123Z",
     "iopub.status.idle": "2020-09-07T11:54:43.423912Z",
     "shell.execute_reply": "2020-09-07T11:54:43.423156Z"
    },
    "papermill": {
     "duration": 0.029224,
     "end_time": "2020-09-07T11:54:43.424043",
     "exception": false,
     "start_time": "2020-09-07T11:54:43.394819",
     "status": "completed"
    },
    "tags": []
   },
   "outputs": [],
   "source": [
    "#race - kill - percent_over_25 - percentage_people_below_poverty - house_income   - DATA"
   ]
  },
  {
   "cell_type": "markdown",
   "execution_count": null,
   "metadata": {
    "papermill": {
     "duration": 0.021003,
     "end_time": "2020-09-07T11:54:43.467734",
     "exception": false,
     "start_time": "2020-09-07T11:54:43.446731",
     "status": "completed"
    },
    "tags": []
   },
   "source": [
    "<a id = \"8\" ></a>\n",
    "# 8. Heatmap "
   ]
  },
  {
   "cell_type": "markdown",
   "execution_count": null,
   "metadata": {
    "papermill": {
     "duration": 0.021384,
     "end_time": "2020-09-07T11:54:43.511229",
     "exception": false,
     "start_time": "2020-09-07T11:54:43.489845",
     "status": "completed"
    },
    "tags": []
   },
   "source": [
    "The heatmap is a way of representing the data in a 2-dimensional form. The data values are represented as colors in the graph. The goal of the heatmap is to provide a colored visual summary of information.\n",
    "\n",
    "Heat maps display numeric tabular data where the cells are colored depending upon the contained value. Heat maps are great for making trends in this kind of data more readily apparent, particularly when the data is ordered and there is clustering."
   ]
  },
  {
   "cell_type": "code",
   "execution_count": 40,
   "metadata": {
    "execution": {
     "iopub.execute_input": "2020-09-07T11:54:43.567887Z",
     "iopub.status.busy": "2020-09-07T11:54:43.567026Z",
     "iopub.status.idle": "2020-09-07T11:54:43.572078Z",
     "shell.execute_reply": "2020-09-07T11:54:43.571337Z"
    },
    "papermill": {
     "duration": 0.039341,
     "end_time": "2020-09-07T11:54:43.572227",
     "exception": false,
     "start_time": "2020-09-07T11:54:43.532886",
     "status": "completed"
    },
    "tags": []
   },
   "outputs": [
    {
     "data": {
      "text/html": [
       "<div>\n",
       "<style scoped>\n",
       "    .dataframe tbody tr th:only-of-type {\n",
       "        vertical-align: middle;\n",
       "    }\n",
       "\n",
       "    .dataframe tbody tr th {\n",
       "        vertical-align: top;\n",
       "    }\n",
       "\n",
       "    .dataframe thead th {\n",
       "        text-align: right;\n",
       "    }\n",
       "</style>\n",
       "<table border=\"1\" class=\"dataframe\">\n",
       "  <thead>\n",
       "    <tr style=\"text-align: right;\">\n",
       "      <th></th>\n",
       "      <th>area_poverty_ratio</th>\n",
       "      <th>area_highschool_ratio</th>\n",
       "    </tr>\n",
       "  </thead>\n",
       "  <tbody>\n",
       "    <tr>\n",
       "      <th>area_poverty_ratio</th>\n",
       "      <td>1.000000</td>\n",
       "      <td>-0.805761</td>\n",
       "    </tr>\n",
       "    <tr>\n",
       "      <th>area_highschool_ratio</th>\n",
       "      <td>-0.805761</td>\n",
       "      <td>1.000000</td>\n",
       "    </tr>\n",
       "  </tbody>\n",
       "</table>\n",
       "</div>"
      ],
      "text/plain": [
       "                       area_poverty_ratio  area_highschool_ratio\n",
       "area_poverty_ratio               1.000000              -0.805761\n",
       "area_highschool_ratio           -0.805761               1.000000"
      ]
     },
     "execution_count": 40,
     "metadata": {},
     "output_type": "execute_result"
    }
   ],
   "source": [
    "data.corr()"
   ]
  },
  {
   "cell_type": "code",
   "execution_count": 41,
   "metadata": {
    "execution": {
     "iopub.execute_input": "2020-09-07T11:54:43.626668Z",
     "iopub.status.busy": "2020-09-07T11:54:43.625640Z",
     "iopub.status.idle": "2020-09-07T11:54:43.791300Z",
     "shell.execute_reply": "2020-09-07T11:54:43.790635Z"
    },
    "papermill": {
     "duration": 0.198227,
     "end_time": "2020-09-07T11:54:43.791421",
     "exception": false,
     "start_time": "2020-09-07T11:54:43.593194",
     "status": "completed"
    },
    "tags": []
   },
   "outputs": [
    {
     "data": {
      "image/png": "[encoded data removed]",
      "text/plain": [
       "<Figure size 360x360 with 2 Axes>"
      ]
     },
     "metadata": {},
     "output_type": "display_data"
    }
   ],
   "source": [
    "# Visualization of high school graduation rate vs Poverty rate of each state with different style of seaborn code\n",
    "f,ax = plt.subplots(figsize=(5, 5))\n",
    "sns.heatmap(data.corr(), annot=True, linewidths=0.5,linecolor=\"red\", fmt= '.1f',ax=ax)\n",
    "plt.show()"
   ]
  },
  {
   "cell_type": "markdown",
   "execution_count": null,
   "metadata": {
    "papermill": {
     "duration": 0.021214,
     "end_time": "2020-09-07T11:54:43.834658",
     "exception": false,
     "start_time": "2020-09-07T11:54:43.813444",
     "status": "completed"
    },
    "tags": []
   },
   "source": [
    "<a id = \"9\" ></a>\n",
    "# 9. Box Plot"
   ]
  },
  {
   "cell_type": "markdown",
   "execution_count": null,
   "metadata": {
    "papermill": {
     "duration": 0.02145,
     "end_time": "2020-09-07T11:54:43.877695",
     "exception": false,
     "start_time": "2020-09-07T11:54:43.856245",
     "status": "completed"
    },
    "tags": []
   },
   "source": [
    "Draw a box plot to show distributions with respect to categories.\n",
    "\n",
    "A box plot (or box-and-whisker plot) shows the distribution of quantitative data in a way that facilitates comparisons between variables or across levels of a categorical variable. The box shows the quartiles of the dataset while the whiskers extend to show the rest of the distribution, except for points that are determined to be “outliers” using a method that is a function of the inter-quartile range."
   ]
  },
  {
   "cell_type": "code",
   "execution_count": 42,
   "metadata": {
    "execution": {
     "iopub.execute_input": "2020-09-07T11:54:43.940802Z",
     "iopub.status.busy": "2020-09-07T11:54:43.940069Z",
     "iopub.status.idle": "2020-09-07T11:54:43.945043Z",
     "shell.execute_reply": "2020-09-07T11:54:43.945553Z"
    },
    "papermill": {
     "duration": 0.04638,
     "end_time": "2020-09-07T11:54:43.945727",
     "exception": false,
     "start_time": "2020-09-07T11:54:43.899347",
     "status": "completed"
    },
    "tags": []
   },
   "outputs": [
    {
     "data": {
      "text/html": [
       "<div>\n",
       "<style scoped>\n",
       "    .dataframe tbody tr th:only-of-type {\n",
       "        vertical-align: middle;\n",
       "    }\n",
       "\n",
       "    .dataframe tbody tr th {\n",
       "        vertical-align: top;\n",
       "    }\n",
       "\n",
       "    .dataframe thead th {\n",
       "        text-align: right;\n",
       "    }\n",
       "</style>\n",
       "<table border=\"1\" class=\"dataframe\">\n",
       "  <thead>\n",
       "    <tr style=\"text-align: right;\">\n",
       "      <th></th>\n",
       "      <th>id</th>\n",
       "      <th>name</th>\n",
       "      <th>date</th>\n",
       "      <th>manner_of_death</th>\n",
       "      <th>armed</th>\n",
       "      <th>age</th>\n",
       "      <th>gender</th>\n",
       "      <th>race</th>\n",
       "      <th>city</th>\n",
       "      <th>state</th>\n",
       "      <th>signs_of_mental_illness</th>\n",
       "      <th>threat_level</th>\n",
       "      <th>flee</th>\n",
       "      <th>body_camera</th>\n",
       "    </tr>\n",
       "  </thead>\n",
       "  <tbody>\n",
       "    <tr>\n",
       "      <th>0</th>\n",
       "      <td>3</td>\n",
       "      <td>Tim Elliot</td>\n",
       "      <td>02/01/15</td>\n",
       "      <td>shot</td>\n",
       "      <td>gun</td>\n",
       "      <td>53.0</td>\n",
       "      <td>M</td>\n",
       "      <td>A</td>\n",
       "      <td>Shelton</td>\n",
       "      <td>WA</td>\n",
       "      <td>True</td>\n",
       "      <td>attack</td>\n",
       "      <td>Not fleeing</td>\n",
       "      <td>False</td>\n",
       "    </tr>\n",
       "    <tr>\n",
       "      <th>1</th>\n",
       "      <td>4</td>\n",
       "      <td>Lewis Lee Lembke</td>\n",
       "      <td>02/01/15</td>\n",
       "      <td>shot</td>\n",
       "      <td>gun</td>\n",
       "      <td>47.0</td>\n",
       "      <td>M</td>\n",
       "      <td>W</td>\n",
       "      <td>Aloha</td>\n",
       "      <td>OR</td>\n",
       "      <td>False</td>\n",
       "      <td>attack</td>\n",
       "      <td>Not fleeing</td>\n",
       "      <td>False</td>\n",
       "    </tr>\n",
       "    <tr>\n",
       "      <th>2</th>\n",
       "      <td>5</td>\n",
       "      <td>John Paul Quintero</td>\n",
       "      <td>03/01/15</td>\n",
       "      <td>shot and Tasered</td>\n",
       "      <td>unarmed</td>\n",
       "      <td>23.0</td>\n",
       "      <td>M</td>\n",
       "      <td>H</td>\n",
       "      <td>Wichita</td>\n",
       "      <td>KS</td>\n",
       "      <td>False</td>\n",
       "      <td>other</td>\n",
       "      <td>Not fleeing</td>\n",
       "      <td>False</td>\n",
       "    </tr>\n",
       "    <tr>\n",
       "      <th>3</th>\n",
       "      <td>8</td>\n",
       "      <td>Matthew Hoffman</td>\n",
       "      <td>04/01/15</td>\n",
       "      <td>shot</td>\n",
       "      <td>toy weapon</td>\n",
       "      <td>32.0</td>\n",
       "      <td>M</td>\n",
       "      <td>W</td>\n",
       "      <td>San Francisco</td>\n",
       "      <td>CA</td>\n",
       "      <td>True</td>\n",
       "      <td>attack</td>\n",
       "      <td>Not fleeing</td>\n",
       "      <td>False</td>\n",
       "    </tr>\n",
       "    <tr>\n",
       "      <th>4</th>\n",
       "      <td>9</td>\n",
       "      <td>Michael Rodriguez</td>\n",
       "      <td>04/01/15</td>\n",
       "      <td>shot</td>\n",
       "      <td>nail gun</td>\n",
       "      <td>39.0</td>\n",
       "      <td>M</td>\n",
       "      <td>H</td>\n",
       "      <td>Evans</td>\n",
       "      <td>CO</td>\n",
       "      <td>False</td>\n",
       "      <td>attack</td>\n",
       "      <td>Not fleeing</td>\n",
       "      <td>False</td>\n",
       "    </tr>\n",
       "  </tbody>\n",
       "</table>\n",
       "</div>"
      ],
      "text/plain": [
       "   id                name      date   manner_of_death       armed   age  \\\n",
       "0   3          Tim Elliot  02/01/15              shot         gun  53.0   \n",
       "1   4    Lewis Lee Lembke  02/01/15              shot         gun  47.0   \n",
       "2   5  John Paul Quintero  03/01/15  shot and Tasered     unarmed  23.0   \n",
       "3   8     Matthew Hoffman  04/01/15              shot  toy weapon  32.0   \n",
       "4   9   Michael Rodriguez  04/01/15              shot    nail gun  39.0   \n",
       "\n",
       "  gender race           city state  signs_of_mental_illness threat_level  \\\n",
       "0      M    A        Shelton    WA                     True       attack   \n",
       "1      M    W          Aloha    OR                    False       attack   \n",
       "2      M    H        Wichita    KS                    False        other   \n",
       "3      M    W  San Francisco    CA                     True       attack   \n",
       "4      M    H          Evans    CO                    False       attack   \n",
       "\n",
       "          flee  body_camera  \n",
       "0  Not fleeing        False  \n",
       "1  Not fleeing        False  \n",
       "2  Not fleeing        False  \n",
       "3  Not fleeing        False  \n",
       "4  Not fleeing        False  "
      ]
     },
     "execution_count": 42,
     "metadata": {},
     "output_type": "execute_result"
    }
   ],
   "source": [
    "kill.head()"
   ]
  },
  {
   "cell_type": "code",
   "execution_count": 43,
   "metadata": {
    "execution": {
     "iopub.execute_input": "2020-09-07T11:54:43.997291Z",
     "iopub.status.busy": "2020-09-07T11:54:43.996228Z",
     "iopub.status.idle": "2020-09-07T11:54:44.002177Z",
     "shell.execute_reply": "2020-09-07T11:54:44.001501Z"
    },
    "papermill": {
     "duration": 0.034416,
     "end_time": "2020-09-07T11:54:44.002364",
     "exception": false,
     "start_time": "2020-09-07T11:54:43.967948",
     "status": "completed"
    },
    "tags": []
   },
   "outputs": [
    {
     "data": {
      "text/plain": [
       "array(['shot', 'shot and Tasered'], dtype=object)"
      ]
     },
     "execution_count": 43,
     "metadata": {},
     "output_type": "execute_result"
    }
   ],
   "source": [
    "kill.manner_of_death.unique()"
   ]
  },
  {
   "cell_type": "code",
   "execution_count": 44,
   "metadata": {
    "execution": {
     "iopub.execute_input": "2020-09-07T11:54:44.055519Z",
     "iopub.status.busy": "2020-09-07T11:54:44.054817Z",
     "iopub.status.idle": "2020-09-07T11:54:44.226308Z",
     "shell.execute_reply": "2020-09-07T11:54:44.225676Z"
    },
    "papermill": {
     "duration": 0.20036,
     "end_time": "2020-09-07T11:54:44.226440",
     "exception": false,
     "start_time": "2020-09-07T11:54:44.026080",
     "status": "completed"
    },
    "tags": []
   },
   "outputs": [
    {
     "data": {
      "image/png": "[encoded data removed]",
      "text/plain": [
       "<Figure size 432x288 with 1 Axes>"
      ]
     },
     "metadata": {},
     "output_type": "display_data"
    }
   ],
   "source": [
    "sns.boxplot(x=\"gender\", y=\"age\", hue=\"manner_of_death\", data=kill, palette=\"PRGn\")\n",
    "plt.show()"
   ]
  },
  {
   "cell_type": "markdown",
   "execution_count": null,
   "metadata": {
    "papermill": {
     "duration": 0.092458,
     "end_time": "2020-09-07T11:54:44.341853",
     "exception": false,
     "start_time": "2020-09-07T11:54:44.249395",
     "status": "completed"
    },
    "tags": []
   },
   "source": [
    "<a id = \"10\" ></a>\n",
    "# 10. Swarm Plot"
   ]
  },
  {
   "cell_type": "markdown",
   "execution_count": null,
   "metadata": {
    "papermill": {
     "duration": 0.021937,
     "end_time": "2020-09-07T11:54:44.386389",
     "exception": false,
     "start_time": "2020-09-07T11:54:44.364452",
     "status": "completed"
    },
    "tags": []
   },
   "source": [
    "Draw a categorical scatterplot with non-overlapping points.\n",
    "\n",
    "This function is similar to stripplot(), but the points are adjusted (only along the categorical axis) so that they don’t overlap. This gives a better representation of the distribution of values, but it does not scale well to large numbers of observations. This style of plot is sometimes called a “beeswarm”.\n",
    "\n",
    "A swarm plot can be drawn on its own, but it is also a good complement to a box or violin plot in cases where you want to show all observations along with some representation of the underlying distribution.\n",
    "\n",
    "Arranging the points properly requires an accurate transformation between data and point coordinates. This means that non-default axis limits must be set before drawing the plot."
   ]
  },
  {
   "cell_type": "code",
   "execution_count": 45,
   "metadata": {
    "execution": {
     "iopub.execute_input": "2020-09-07T11:54:44.439011Z",
     "iopub.status.busy": "2020-09-07T11:54:44.437195Z",
     "iopub.status.idle": "2020-09-07T11:54:54.560676Z",
     "shell.execute_reply": "2020-09-07T11:54:54.561178Z"
    },
    "papermill": {
     "duration": 10.152371,
     "end_time": "2020-09-07T11:54:54.561344",
     "exception": false,
     "start_time": "2020-09-07T11:54:44.408973",
     "status": "completed"
    },
    "tags": []
   },
   "outputs": [
    {
     "data": {
      "image/png": "[encoded data removed]",
      "text/plain": [
       "<Figure size 432x288 with 1 Axes>"
      ]
     },
     "metadata": {},
     "output_type": "display_data"
    }
   ],
   "source": [
    "sns.swarmplot(x=\"gender\", y=\"age\",hue=\"manner_of_death\", data=kill)\n",
    "plt.show()"
   ]
  },
  {
   "cell_type": "markdown",
   "execution_count": null,
   "metadata": {
    "papermill": {
     "duration": 0.021449,
     "end_time": "2020-09-07T11:54:54.604999",
     "exception": false,
     "start_time": "2020-09-07T11:54:54.583550",
     "status": "completed"
    },
    "tags": []
   },
   "source": [
    "<a id = \"11\" ></a>\n",
    "# 11. Pair Plot"
   ]
  },
  {
   "cell_type": "markdown",
   "execution_count": null,
   "metadata": {
    "papermill": {
     "duration": 0.021671,
     "end_time": "2020-09-07T11:54:54.649090",
     "exception": false,
     "start_time": "2020-09-07T11:54:54.627419",
     "status": "completed"
    },
    "tags": []
   },
   "source": [
    "Plot pairwise relationships in a dataset.\n",
    "\n",
    "By default, this function will create a grid of Axes such that each numeric variable in data will by shared in the y-axis across a single row and in the x-axis across a single column. The diagonal Axes are treated differently, drawing a plot to show the univariate distribution of the data for the variable in that column.\n",
    "\n",
    "It is also possible to show a subset of variables or plot different variables on the rows and columns."
   ]
  },
  {
   "cell_type": "code",
   "execution_count": 46,
   "metadata": {
    "execution": {
     "iopub.execute_input": "2020-09-07T11:54:54.703967Z",
     "iopub.status.busy": "2020-09-07T11:54:54.702948Z",
     "iopub.status.idle": "2020-09-07T11:54:54.706574Z",
     "shell.execute_reply": "2020-09-07T11:54:54.707011Z"
    },
    "papermill": {
     "duration": 0.03608,
     "end_time": "2020-09-07T11:54:54.707156",
     "exception": false,
     "start_time": "2020-09-07T11:54:54.671076",
     "status": "completed"
    },
    "tags": []
   },
   "outputs": [
    {
     "data": {
      "text/html": [
       "<div>\n",
       "<style scoped>\n",
       "    .dataframe tbody tr th:only-of-type {\n",
       "        vertical-align: middle;\n",
       "    }\n",
       "\n",
       "    .dataframe tbody tr th {\n",
       "        vertical-align: top;\n",
       "    }\n",
       "\n",
       "    .dataframe thead th {\n",
       "        text-align: right;\n",
       "    }\n",
       "</style>\n",
       "<table border=\"1\" class=\"dataframe\">\n",
       "  <thead>\n",
       "    <tr style=\"text-align: right;\">\n",
       "      <th></th>\n",
       "      <th>area_list</th>\n",
       "      <th>area_poverty_ratio</th>\n",
       "      <th>area_highschool_ratio</th>\n",
       "    </tr>\n",
       "  </thead>\n",
       "  <tbody>\n",
       "    <tr>\n",
       "      <th>30</th>\n",
       "      <td>NJ</td>\n",
       "      <td>0.303558</td>\n",
       "      <td>0.983615</td>\n",
       "    </tr>\n",
       "    <tr>\n",
       "      <th>50</th>\n",
       "      <td>WY</td>\n",
       "      <td>0.337139</td>\n",
       "      <td>0.912479</td>\n",
       "    </tr>\n",
       "    <tr>\n",
       "      <th>6</th>\n",
       "      <td>CT</td>\n",
       "      <td>0.339883</td>\n",
       "      <td>0.995254</td>\n",
       "    </tr>\n",
       "    <tr>\n",
       "      <th>21</th>\n",
       "      <td>MA</td>\n",
       "      <td>0.355090</td>\n",
       "      <td>1.000000</td>\n",
       "    </tr>\n",
       "    <tr>\n",
       "      <th>20</th>\n",
       "      <td>MD</td>\n",
       "      <td>0.382097</td>\n",
       "      <td>0.957107</td>\n",
       "    </tr>\n",
       "  </tbody>\n",
       "</table>\n",
       "</div>"
      ],
      "text/plain": [
       "   area_list  area_poverty_ratio  area_highschool_ratio\n",
       "30        NJ            0.303558               0.983615\n",
       "50        WY            0.337139               0.912479\n",
       "6         CT            0.339883               0.995254\n",
       "21        MA            0.355090               1.000000\n",
       "20        MD            0.382097               0.957107"
      ]
     },
     "execution_count": 46,
     "metadata": {},
     "output_type": "execute_result"
    }
   ],
   "source": [
    "data.head()"
   ]
  },
  {
   "cell_type": "code",
   "execution_count": 47,
   "metadata": {
    "execution": {
     "iopub.execute_input": "2020-09-07T11:54:54.762786Z",
     "iopub.status.busy": "2020-09-07T11:54:54.762045Z",
     "iopub.status.idle": "2020-09-07T11:54:55.652544Z",
     "shell.execute_reply": "2020-09-07T11:54:55.653385Z"
    },
    "papermill": {
     "duration": 0.924006,
     "end_time": "2020-09-07T11:54:55.653617",
     "exception": false,
     "start_time": "2020-09-07T11:54:54.729611",
     "status": "completed"
    },
    "tags": []
   },
   "outputs": [
    {
     "data": {
      "image/png": "[encoded data removed]",
      "text/plain": [
       "<Figure size 360x360 with 6 Axes>"
      ]
     },
     "metadata": {},
     "output_type": "display_data"
    }
   ],
   "source": [
    "sns.pairplot(data)\n",
    "plt.show()"
   ]
  },
  {
   "cell_type": "code",
   "execution_count": 48,
   "metadata": {
    "execution": {
     "iopub.execute_input": "2020-09-07T11:54:55.712351Z",
     "iopub.status.busy": "2020-09-07T11:54:55.711653Z",
     "iopub.status.idle": "2020-09-07T11:54:55.714345Z",
     "shell.execute_reply": "2020-09-07T11:54:55.714838Z"
    },
    "papermill": {
     "duration": 0.032213,
     "end_time": "2020-09-07T11:54:55.714992",
     "exception": false,
     "start_time": "2020-09-07T11:54:55.682779",
     "status": "completed"
    },
    "tags": []
   },
   "outputs": [],
   "source": [
    "#race - kill - percent_over_25 - percentage_people_below_poverty - house_income   - DATA"
   ]
  },
  {
   "cell_type": "markdown",
   "execution_count": null,
   "metadata": {
    "papermill": {
     "duration": 0.022978,
     "end_time": "2020-09-07T11:54:55.768778",
     "exception": false,
     "start_time": "2020-09-07T11:54:55.745800",
     "status": "completed"
    },
    "tags": []
   },
   "source": [
    "<a id = \"12\" ></a>\n",
    "# 12. Count Plot"
   ]
  },
  {
   "cell_type": "markdown",
   "execution_count": null,
   "metadata": {
    "papermill": {
     "duration": 0.023059,
     "end_time": "2020-09-07T11:54:55.815136",
     "exception": false,
     "start_time": "2020-09-07T11:54:55.792077",
     "status": "completed"
    },
    "tags": []
   },
   "source": [
    "seaborn.countplot(x=None, y=None, hue=None, data=None, order=None, hue_order=None, orient=None, color=None, palette=None, saturation=0.75, dodge=True, ax=None, **kwargs)\n",
    "\n",
    "Show the counts of observations in each categorical bin using bars.\n",
    "\n",
    "A count plot can be thought of as a histogram across a categorical, instead of quantitative, variable. The basic API and options are identical to those for barplot(), so you can compare counts across nested variables.\n",
    "\n"
   ]
  },
  {
   "cell_type": "code",
   "execution_count": 49,
   "metadata": {
    "execution": {
     "iopub.execute_input": "2020-09-07T11:54:55.870583Z",
     "iopub.status.busy": "2020-09-07T11:54:55.869563Z",
     "iopub.status.idle": "2020-09-07T11:54:55.874384Z",
     "shell.execute_reply": "2020-09-07T11:54:55.873772Z"
    },
    "papermill": {
     "duration": 0.03625,
     "end_time": "2020-09-07T11:54:55.874500",
     "exception": false,
     "start_time": "2020-09-07T11:54:55.838250",
     "status": "completed"
    },
    "tags": []
   },
   "outputs": [
    {
     "data": {
      "text/plain": [
       "M    2428\n",
       "F     107\n",
       "Name: gender, dtype: int64"
      ]
     },
     "execution_count": 49,
     "metadata": {},
     "output_type": "execute_result"
    }
   ],
   "source": [
    "kill.gender.value_counts()"
   ]
  },
  {
   "cell_type": "code",
   "execution_count": 50,
   "metadata": {
    "execution": {
     "iopub.execute_input": "2020-09-07T11:54:55.925975Z",
     "iopub.status.busy": "2020-09-07T11:54:55.925341Z",
     "iopub.status.idle": "2020-09-07T11:54:56.033790Z",
     "shell.execute_reply": "2020-09-07T11:54:56.033106Z"
    },
    "papermill": {
     "duration": 0.136292,
     "end_time": "2020-09-07T11:54:56.033911",
     "exception": false,
     "start_time": "2020-09-07T11:54:55.897619",
     "status": "completed"
    },
    "tags": []
   },
   "outputs": [
    {
     "data": {
      "text/plain": [
       "Text(0.5, 1.0, 'gender')"
      ]
     },
     "execution_count": 50,
     "metadata": {},
     "output_type": "execute_result"
    },
    {
     "data": {
      "image/png": "[encoded data removed]",
      "text/plain": [
       "<Figure size 432x288 with 1 Axes>"
      ]
     },
     "metadata": {},
     "output_type": "display_data"
    }
   ],
   "source": [
    "sns.countplot(kill.gender)\n",
    "#sns.countplot(kill.manner_of_death)\n",
    "plt.title(\"gender\",color = 'blue',fontsize=15)"
   ]
  },
  {
   "cell_type": "code",
   "execution_count": 51,
   "metadata": {
    "execution": {
     "iopub.execute_input": "2020-09-07T11:54:56.091819Z",
     "iopub.status.busy": "2020-09-07T11:54:56.090414Z",
     "iopub.status.idle": "2020-09-07T11:54:56.265123Z",
     "shell.execute_reply": "2020-09-07T11:54:56.264473Z"
    },
    "papermill": {
     "duration": 0.207575,
     "end_time": "2020-09-07T11:54:56.265241",
     "exception": false,
     "start_time": "2020-09-07T11:54:56.057666",
     "status": "completed"
    },
    "tags": []
   },
   "outputs": [
    {
     "data": {
      "text/plain": [
       "Text(0.5, 1.0, 'Kill weapon')"
      ]
     },
     "execution_count": 51,
     "metadata": {},
     "output_type": "execute_result"
    },
    {
     "data": {
      "image/png": "[encoded data removed]",
      "text/plain": [
       "<Figure size 720x504 with 1 Axes>"
      ]
     },
     "metadata": {},
     "output_type": "display_data"
    }
   ],
   "source": [
    "armed = kill.armed.value_counts()\n",
    "plt.figure(figsize=(10,7))\n",
    "sns.barplot(   x=armed[:7].index,   y=armed[:7].values  )\n",
    "\n",
    "plt.ylabel('Number of Weapon')\n",
    "plt.xlabel('Weapon Types')\n",
    "plt.title('Kill weapon',color = 'blue',fontsize=15)"
   ]
  }
 ],
 "metadata": {
  "kernelspec": {
   "display_name": "Python 3",
   "language": "python",
   "name": "python3"
  },
  "language_info": {
   "codemirror_mode": {
    "name": "ipython",
    "version": 3
   },
   "file_extension": ".py",
   "mimetype": "text/x-python",
   "name": "python",
   "nbconvert_exporter": "python",
   "pygments_lexer": "ipython3",
   "version": "3.7.6"
  },
  "papermill": {
   "duration": 28.402931,
   "end_time": "2020-09-07T11:54:56.397797",
   "environment_variables": {},
   "exception": null,
   "input_path": "__notebook__.ipynb",
   "output_path": "__notebook__.ipynb",
   "parameters": {},
   "start_time": "2020-09-07T11:54:27.994866",
   "version": "2.1.0"
  }
 },
 "nbformat": 4,
 "nbformat_minor": 4
}
